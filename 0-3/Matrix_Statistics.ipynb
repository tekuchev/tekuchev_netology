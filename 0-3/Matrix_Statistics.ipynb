{
 "cells": [
  {
   "cell_type": "code",
   "execution_count": null,
   "metadata": {
    "collapsed": true
   },
   "outputs": [],
   "source": []
  },
  {
   "cell_type": "code",
   "execution_count": 242,
   "metadata": {
    "collapsed": true
   },
   "outputs": [],
   "source": [
    "from scipy import stats\n",
    "import pandas as pd\n",
    "import numpy as np\n",
    "import matplotlib.pyplot as plt\n",
    "import matplotlib.mlab as mlab\n",
    "import seaborn as sns"
   ]
  },
  {
   "cell_type": "code",
   "execution_count": 34,
   "metadata": {},
   "outputs": [
    {
     "data": {
      "text/html": [
       "<div>\n",
       "<style>\n",
       "    .dataframe thead tr:only-child th {\n",
       "        text-align: right;\n",
       "    }\n",
       "\n",
       "    .dataframe thead th {\n",
       "        text-align: left;\n",
       "    }\n",
       "\n",
       "    .dataframe tbody tr th {\n",
       "        vertical-align: top;\n",
       "    }\n",
       "</style>\n",
       "<table border=\"1\" class=\"dataframe\">\n",
       "  <thead>\n",
       "    <tr style=\"text-align: right;\">\n",
       "      <th></th>\n",
       "      <th>index</th>\n",
       "      <th>height_inches</th>\n",
       "      <th>weight_pounds</th>\n",
       "    </tr>\n",
       "  </thead>\n",
       "  <tbody>\n",
       "    <tr>\n",
       "      <th>0</th>\n",
       "      <td>1</td>\n",
       "      <td>65.78331</td>\n",
       "      <td>112.9925</td>\n",
       "    </tr>\n",
       "    <tr>\n",
       "      <th>1</th>\n",
       "      <td>2</td>\n",
       "      <td>71.51521</td>\n",
       "      <td>136.4873</td>\n",
       "    </tr>\n",
       "    <tr>\n",
       "      <th>2</th>\n",
       "      <td>3</td>\n",
       "      <td>69.39874</td>\n",
       "      <td>153.0269</td>\n",
       "    </tr>\n",
       "    <tr>\n",
       "      <th>3</th>\n",
       "      <td>4</td>\n",
       "      <td>68.21660</td>\n",
       "      <td>142.3354</td>\n",
       "    </tr>\n",
       "    <tr>\n",
       "      <th>4</th>\n",
       "      <td>5</td>\n",
       "      <td>67.78781</td>\n",
       "      <td>144.2971</td>\n",
       "    </tr>\n",
       "  </tbody>\n",
       "</table>\n",
       "</div>"
      ],
      "text/plain": [
       "   index  height_inches  weight_pounds\n",
       "0      1       65.78331       112.9925\n",
       "1      2       71.51521       136.4873\n",
       "2      3       69.39874       153.0269\n",
       "3      4       68.21660       142.3354\n",
       "4      5       67.78781       144.2971"
      ]
     },
     "execution_count": 34,
     "metadata": {},
     "output_type": "execute_result"
    }
   ],
   "source": [
    "data = pd.read_csv('hw_25000.csv',names=['index','height_inches','weight_pounds'],delimiter=';',skiprows=2)\n",
    "data.head(5)"
   ]
  },
  {
   "cell_type": "code",
   "execution_count": 119,
   "metadata": {},
   "outputs": [
    {
     "data": {
      "text/plain": [
       "Index(['index', 'height_inches', 'weight_pounds', 'height', 'weight'], dtype='object')"
      ]
     },
     "execution_count": 119,
     "metadata": {},
     "output_type": "execute_result"
    }
   ],
   "source": [
    "data['height'] = data['height_inches'] * 2.54\n",
    "data['weight'] = data['weight_pounds']*0.453592\n",
    "data.columns"
   ]
  },
  {
   "cell_type": "code",
   "execution_count": 60,
   "metadata": {
    "collapsed": true
   },
   "outputs": [],
   "source": [
    "mean = np.mean(data['weight'])\n",
    "std_deviation = np.std(data['weight'])"
   ]
  },
  {
   "cell_type": "code",
   "execution_count": 290,
   "metadata": {},
   "outputs": [
    {
     "data": {
      "image/png": "[encoded data removed]",
      "text/plain": [
       "<matplotlib.figure.Figure at 0x1a0e172b38>"
      ]
     },
     "metadata": {},
     "output_type": "display_data"
    }
   ],
   "source": [
    "mu = np.mean(data['weight'])  # mean of distribution\n",
    "sigma = np.std(data['weight'])  # standard deviation of distribution\n",
    "fig, ax = plt.subplots()\n",
    "n, bins, patches = ax.hist( data['weight'], bins = 20, normed=1 )\n",
    "# add a 'best fit' line\n",
    "y = mlab.normpdf(bins, mu, sigma)\n",
    "ax.plot(bins,y,'--')\n",
    "ax.set_xlabel(\"xlabel\")\n",
    "ax.set_ylabel(\"ylabel\")\n",
    "fig.tight_layout()\n",
    "plt.show()"
   ]
  },
  {
   "cell_type": "code",
   "execution_count": 245,
   "metadata": {},
   "outputs": [
    {
     "data": {
      "text/plain": [
       "25000"
      ]
     },
     "execution_count": 245,
     "metadata": {},
     "output_type": "execute_result"
    }
   ],
   "source": [
    "data['height'].size"
   ]
  },
  {
   "cell_type": "code",
   "execution_count": 247,
   "metadata": {},
   "outputs": [
    {
     "name": "stdout",
     "output_type": "stream",
     "text": [
      "Populating the interactive namespace from numpy and matplotlib\n"
     ]
    }
   ],
   "source": [
    "from pylab import rcParams\n",
    "%pylab inline"
   ]
  },
  {
   "cell_type": "code",
   "execution_count": 248,
   "metadata": {},
   "outputs": [
    {
     "data": {
      "image/png": "[encoded data removed]",
      "text/plain": [
       "<matplotlib.figure.Figure at 0x1a163de438>"
      ]
     },
     "metadata": {},
     "output_type": "display_data"
    }
   ],
   "source": [
    "%config InlineBackend.figure_format = 'png' \n",
    "sns_plot = sns.pairplot(data[['weight','height']])\n",
    "sns_plot.savefig('weith_height.png')"
   ]
  },
  {
   "cell_type": "code",
   "execution_count": 233,
   "metadata": {},
   "outputs": [
    {
     "data": {
      "text/plain": [
       "172.70250853587314"
      ]
     },
     "execution_count": 233,
     "metadata": {},
     "output_type": "execute_result"
    }
   ],
   "source": [
    "data['height'].mean()"
   ]
  },
  {
   "cell_type": "code",
   "execution_count": 306,
   "metadata": {},
   "outputs": [
    {
     "data": {
      "text/html": [
       "<div>\n",
       "<style>\n",
       "    .dataframe thead tr:only-child th {\n",
       "        text-align: right;\n",
       "    }\n",
       "\n",
       "    .dataframe thead th {\n",
       "        text-align: left;\n",
       "    }\n",
       "\n",
       "    .dataframe tbody tr th {\n",
       "        vertical-align: top;\n",
       "    }\n",
       "</style>\n",
       "<table border=\"1\" class=\"dataframe\">\n",
       "  <thead>\n",
       "    <tr style=\"text-align: right;\">\n",
       "      <th></th>\n",
       "      <th>index</th>\n",
       "      <th>height_inches</th>\n",
       "      <th>weight_pounds</th>\n",
       "      <th>height</th>\n",
       "      <th>weight</th>\n",
       "    </tr>\n",
       "  </thead>\n",
       "  <tbody>\n",
       "    <tr>\n",
       "      <th>0</th>\n",
       "      <td>9727.0</td>\n",
       "      <td>71.15411</td>\n",
       "      <td>151.4754</td>\n",
       "      <td>180.731439</td>\n",
       "      <td>68.70803</td>\n",
       "    </tr>\n",
       "  </tbody>\n",
       "</table>\n",
       "</div>"
      ],
      "text/plain": [
       "    index  height_inches  weight_pounds      height    weight\n",
       "0  9727.0       71.15411       151.4754  180.731439  68.70803"
      ]
     },
     "execution_count": 306,
     "metadata": {},
     "output_type": "execute_result"
    }
   ],
   "source": [
    "data_len = data['height'].size\n",
    "height_170_180 = pd.DataFrame(columns = data.columns);\n",
    "\n",
    "t = np.random.randint(data_len)\n",
    "list(data.values[t])\n",
    "tdf = pd.DataFrame([list(data.values[t])], columns = data.columns) \n",
    "height_170_180 = height_170_180.append(tdf)\n",
    "height_170_180.head()"
   ]
  },
  {
   "cell_type": "code",
   "execution_count": 311,
   "metadata": {},
   "outputs": [
    {
     "data": {
      "text/html": [
       "<div>\n",
       "<style>\n",
       "    .dataframe thead tr:only-child th {\n",
       "        text-align: right;\n",
       "    }\n",
       "\n",
       "    .dataframe thead th {\n",
       "        text-align: left;\n",
       "    }\n",
       "\n",
       "    .dataframe tbody tr th {\n",
       "        vertical-align: top;\n",
       "    }\n",
       "</style>\n",
       "<table border=\"1\" class=\"dataframe\">\n",
       "  <thead>\n",
       "    <tr style=\"text-align: right;\">\n",
       "      <th></th>\n",
       "      <th>level_0</th>\n",
       "      <th>index</th>\n",
       "      <th>height_inches</th>\n",
       "      <th>weight_pounds</th>\n",
       "      <th>height</th>\n",
       "      <th>weight</th>\n",
       "    </tr>\n",
       "  </thead>\n",
       "  <tbody>\n",
       "    <tr>\n",
       "      <th>0</th>\n",
       "      <td>0</td>\n",
       "      <td>3346.0</td>\n",
       "      <td>67.56202</td>\n",
       "      <td>115.1545</td>\n",
       "      <td>171.607531</td>\n",
       "      <td>52.233160</td>\n",
       "    </tr>\n",
       "    <tr>\n",
       "      <th>1</th>\n",
       "      <td>1</td>\n",
       "      <td>17865.0</td>\n",
       "      <td>69.13139</td>\n",
       "      <td>133.5610</td>\n",
       "      <td>175.593731</td>\n",
       "      <td>60.582201</td>\n",
       "    </tr>\n",
       "    <tr>\n",
       "      <th>2</th>\n",
       "      <td>2</td>\n",
       "      <td>9171.0</td>\n",
       "      <td>68.53352</td>\n",
       "      <td>124.2808</td>\n",
       "      <td>174.075141</td>\n",
       "      <td>56.372777</td>\n",
       "    </tr>\n",
       "    <tr>\n",
       "      <th>3</th>\n",
       "      <td>3</td>\n",
       "      <td>22960.0</td>\n",
       "      <td>68.52141</td>\n",
       "      <td>113.6681</td>\n",
       "      <td>174.044381</td>\n",
       "      <td>51.558941</td>\n",
       "    </tr>\n",
       "    <tr>\n",
       "      <th>4</th>\n",
       "      <td>4</td>\n",
       "      <td>13165.0</td>\n",
       "      <td>67.76647</td>\n",
       "      <td>107.9410</td>\n",
       "      <td>172.126834</td>\n",
       "      <td>48.961174</td>\n",
       "    </tr>\n",
       "  </tbody>\n",
       "</table>\n",
       "</div>"
      ],
      "text/plain": [
       "   level_0    index  height_inches  weight_pounds      height     weight\n",
       "0        0   3346.0       67.56202       115.1545  171.607531  52.233160\n",
       "1        1  17865.0       69.13139       133.5610  175.593731  60.582201\n",
       "2        2   9171.0       68.53352       124.2808  174.075141  56.372777\n",
       "3        3  22960.0       68.52141       113.6681  174.044381  51.558941\n",
       "4        4  13165.0       67.76647       107.9410  172.126834  48.961174"
      ]
     },
     "execution_count": 311,
     "metadata": {},
     "output_type": "execute_result"
    }
   ],
   "source": [
    "height_170_180 = None\n",
    "temp_list = []\n",
    "data_len = data['height'].size\n",
    "while 1 :\n",
    "    t = np.random.randint(data_len)\n",
    "    h = data['height'][t]\n",
    "    if h > 170 and h < 180:\n",
    "        temp_list.append(list(data.values[t])) \n",
    "        if len(temp_list) == 20:\n",
    "            break\n",
    "height_170_180 = pd.DataFrame(temp_list, columns = data.columns);\n",
    "height_170_180.reset_index(inplace=True)\n",
    "height_170_180.head()"
   ]
  },
  {
   "cell_type": "code",
   "execution_count": 312,
   "metadata": {},
   "outputs": [
    {
     "data": {
      "text/plain": [
       "Ttest_1sampResult(statistic=0.20822084252778314, pvalue=0.83727233605951668)"
      ]
     },
     "execution_count": 312,
     "metadata": {},
     "output_type": "execute_result"
    }
   ],
   "source": [
    "sample = height_170_180.weight.tolist()\n",
    "stats.ttest_1samp( sample, data['weight'].mean())"
   ]
  },
  {
   "cell_type": "markdown",
   "metadata": {
    "collapsed": true
   },
   "source": [
    "Уровень значимости  pvalue=0.83, следовательно отклонения в весе в выбрке из 20 человек с ростом от 170см. до 180см. являются статистически не значимы."
   ]
  },
  {
   "cell_type": "code",
   "execution_count": null,
   "metadata": {
    "collapsed": true
   },
   "outputs": [],
   "source": []
  }
 ],
 "metadata": {
  "kernelspec": {
   "display_name": "Python 3",
   "language": "python",
   "name": "python3"
  },
  "language_info": {
   "codemirror_mode": {
    "name": "ipython",
    "version": 3
   },
   "file_extension": ".py",
   "mimetype": "text/x-python",
   "name": "python",
   "nbconvert_exporter": "python",
   "pygments_lexer": "ipython3",
   "version": "3.6.2"
  }
 },
 "nbformat": 4,
 "nbformat_minor": 2
}
