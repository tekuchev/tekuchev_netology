{
 "cells": [
  {
   "cell_type": "markdown",
   "metadata": {},
   "source": [
    "# Задание:\n",
    "\n",
    " *    Выбрать свой источник структурированных данных (прогноз погоды, курс акций, счет спортивных мероприятий, или что-нибудь еще);\n",
    " *  Научиться извлекать данные из с выбранной веб-страницы;\n",
    " *   Научиться генерировать текст по шаблонам.\n"
   ]
  },
  {
   "cell_type": "markdown",
   "metadata": {},
   "source": [
    "### Источник  данных и извлечение нужных полей.\n",
    "\n",
    "В качестве источника данных будем использовать глобальную службу прогнозирования погоды (Global Forecast System (GFS)). Служба предоставляет прогноз погоды на 8 дней с максимальным разрешением в 0.25 градуса. Прогноз распространяется в виде файлов в формате GRIB (GRIdded Binary). Файлы доступны для скачивания:\n",
    "http://nomads.ncep.noaa.gov/pub/data/nccf/com/gfs/prod/gfs.2017123006/\n",
    "Прогноз обновляется каждые 6 часов.\n",
    "Для работы с grib-файлами нужна библиотека pygrib"
   ]
  },
  {
   "cell_type": "markdown",
   "metadata": {},
   "source": [
    "Файл прогноза погоды на 6 утра 6 января 2018г, прогноз на 4 часа вперед, то есть на 13:00 по Московскому времени.\n",
    " * cd /home/anaconda/var/grib\n",
    " * wget http://nomads.ncep.noaa.gov/pub/data/nccf/com/gfs/prod/gfs.2018010606/gfs.t06z.pgrb2.0p25.f004"
   ]
  },
  {
   "cell_type": "code",
   "execution_count": 135,
   "metadata": {},
   "outputs": [],
   "source": [
    "import locale\n",
    "locale.setlocale(locale.LC_ALL, 'ru_RU.UTF8')\n",
    "# Все даты храняться в временной зоне UTC. Москва +3 часа.\n",
    "from datetime import timedelta\n",
    "td = timedelta(hours=3)"
   ]
  },
  {
   "cell_type": "code",
   "execution_count": 2,
   "metadata": {
    "collapsed": true
   },
   "outputs": [],
   "source": [
    "import pygrib"
   ]
  },
  {
   "cell_type": "code",
   "execution_count": 120,
   "metadata": {},
   "outputs": [],
   "source": [
    "filename = '/home/anaconda/var/grib/gfs.t06z.pgrb2.0p25.f004'\n",
    "myfile = pygrib.open(filename)"
   ]
  },
  {
   "cell_type": "code",
   "execution_count": 4,
   "metadata": {
    "collapsed": true
   },
   "outputs": [],
   "source": [
    "# За координаты Москвы примем точку 55.75N,37.75E\n",
    "# Данные хранятся в двумерных массивах. Индексы - узлы координатной сетки. Широта [90 .. -90], Долгота [0 ... 360 )\n",
    "# Шаг - четверть градуса\n",
    "# Идексы в массивах данных для Москвы:\n",
    "MOSCOW_LAT_INDEX = (90 - 56)*4 + 1 \n",
    "MOSCOW_LON_INDEX= 37*4  + 3"
   ]
  },
  {
   "cell_type": "code",
   "execution_count": null,
   "metadata": {
    "collapsed": true
   },
   "outputs": [],
   "source": []
  },
  {
   "cell_type": "code",
   "execution_count": 136,
   "metadata": {
    "scrolled": false
   },
   "outputs": [
    {
     "name": "stdout",
     "output_type": "stream",
     "text": [
      "Temperature: 1.45; pressure: 100942.77, wind: 4.96, gust to 11.00, precip: 0.44\n"
     ]
    }
   ],
   "source": [
    "# Файл содержит GRIB-сообщения. \n",
    "# Каждое сообщение содержит значения параметра для всей координатной сетки\n",
    "# У сообщения есть поля ID и name. \n",
    "# Сообщения с одинаковыми именами различаются высотой над уровнем моря, в этом случае select возвращает \n",
    "#  массив из нескольких элементов.\n",
    "# Параметры, которые мы используем, имеют только одну высоту (2 метра или 10 метров), используем только первый эл-т массива.\n",
    "\n",
    "moscow_t = myfile.select(name = '2 metre temperature')[0].data()[0][MOSCOW_LAT_INDEX][MOSCOW_LON_INDEX]\n",
    "moscow_p = myfile.select(name = 'Pressure reduced to MSL')[0].data()[0][MOSCOW_LAT_INDEX][MOSCOW_LON_INDEX]\n",
    "moscow_wg = myfile.select(name = 'Wind speed (gust)')[0].data()[0][MOSCOW_LAT_INDEX][MOSCOW_LON_INDEX]\n",
    "# Дата прогноза\n",
    "# В используемом файле прогноз только на одну дату, возьмем дату из одной из записей.\n",
    "frcst_date = myfile.select(name = 'Wind speed (gust)')[0].validDate + td\n",
    "\n",
    "# Осадки\n",
    "moscow_precip = myfile.select(name = 'Total Precipitation')[0].data()[0][MOSCOW_LAT_INDEX][MOSCOW_LON_INDEX]\n",
    "\n",
    "# Для ветра есть \"Восточная\"- U и  \"Северная\"  - V составляющая.\n",
    "moscow_wu = myfile.select(name = '10 metre U wind component')[0].data()[0][MOSCOW_LAT_INDEX][MOSCOW_LON_INDEX]\n",
    "moscow_wv = myfile.select(name = '10 metre V wind component')[0].data()[0][MOSCOW_LAT_INDEX][MOSCOW_LON_INDEX]\n",
    "moscow_w = (moscow_wu**2 + moscow_wv**2)**0.5\n",
    "\n",
    "# Температура указывается в Кельвинах. Переведем в градусы Цельсия.\n",
    "moscow_t = moscow_t - 273.15\n",
    "print(\"Temperature: {:1.2f}; pressure: {:1.2f}, wind: {:1.2f}, gust to {:1.2f}, precip: {:1.2f}\".format(\n",
    "    moscow_t, moscow_p, moscow_w, moscow_wg, moscow_precip))"
   ]
  },
  {
   "cell_type": "code",
   "execution_count": 137,
   "metadata": {},
   "outputs": [
    {
     "data": {
      "text/plain": [
       "datetime.datetime(2018, 1, 6, 13, 0)"
      ]
     },
     "execution_count": 137,
     "metadata": {},
     "output_type": "execute_result"
    }
   ],
   "source": [
    "frcst_date "
   ]
  },
  {
   "cell_type": "markdown",
   "metadata": {},
   "source": [
    "# Генерация текста по шаблонам"
   ]
  },
  {
   "cell_type": "code",
   "execution_count": 8,
   "metadata": {
    "collapsed": true
   },
   "outputs": [],
   "source": [
    "import pymorphy2\n",
    "\n",
    "from utg import relations as r\n",
    "from utg import logic\n",
    "from utg import data\n",
    "from utg import dictionary\n",
    "from utg import words\n",
    "from utg import templates\n",
    "from utg import constructors"
   ]
  },
  {
   "cell_type": "code",
   "execution_count": 138,
   "metadata": {},
   "outputs": [
    {
     "name": "stdout",
     "output_type": "stream",
     "text": [
      "Прогноз погоды на 13 часов субботы, 6 января 2018 года.\n",
      "Ожидается 1 градус тепла. Ветер южный,  5м/с, возможны порывы до 11м/с. Снег с дождем.\n"
     ]
    }
   ],
   "source": [
    "result = get_frcst_date_phrase(frcst_date) + \"\\n\" + \\\n",
    "    get_temp_phrase(moscow_t) + \" \" + \\\n",
    "    get_wind_phrase(moscow_wv, moscow_wu, moscow_wg) +  \" \" + \\\n",
    "    get_precipitate_phrase(moscow_precip, moscow_t)\n",
    "print(result)"
   ]
  },
  {
   "cell_type": "markdown",
   "metadata": {},
   "source": [
    "Смотрим за окно - и правад, снег с дождем. \"Хорошая\" рождественская погода :)"
   ]
  },
  {
   "cell_type": "markdown",
   "metadata": {},
   "source": [
    "# Library"
   ]
  },
  {
   "cell_type": "code",
   "execution_count": 99,
   "metadata": {},
   "outputs": [
    {
     "data": {
      "text/plain": [
       "'Ожидается 4 градуса мороза.'"
      ]
     },
     "execution_count": 99,
     "metadata": {},
     "output_type": "execute_result"
    }
   ],
   "source": [
    "def get_temp_phrase(temp: float):\n",
    "    degree_word =  words.Word(type=r.WORD_TYPE.NOUN,\n",
    "                                            forms=['градус', 'градуса', 'градусу', 'градус', 'градусом', 'градусе', \n",
    "                                                   'градусы', 'градусов', 'градусам', 'градусы', 'градусами', 'градусах', \n",
    "                                                   'градусы', 'градусов', 'градусам', 'градусы', 'градусами', 'градусах'],\n",
    "                                            properties=words.Properties(r.ANIMALITY.INANIMATE, r.GENDER.MASCULINE))\n",
    "    warm_word =  words.Word(type=r.WORD_TYPE.NOUN,\n",
    "                                            forms=['тепло', 'тепла', 'теплу', 'тепло', 'теплом', 'тепле', \n",
    "                                                   '', '', '', '', '', '', \n",
    "                                                   '', '', '', '', '', ''],\n",
    "                                            properties=words.Properties(r.ANIMALITY.INANIMATE, r.GENDER.MASCULINE))\n",
    "    \n",
    "    frost_word = words.Word(type=r.WORD_TYPE.NOUN,\n",
    "                            forms=['мороз', 'мороза', 'морозу', 'мороза', 'морозом', 'морозе',  \n",
    "                                   'морозы', 'морозов', 'морозам', 'морозов', 'морозами', 'морозах', \n",
    "                                   'морозы', 'морозов', 'морозам', 'морозов', 'морозами', 'морозах'],\n",
    "                            properties=words.Properties(r.ANIMALITY.INANIMATE, r.GENDER.MASCULINE))\n",
    "\n",
    "    #npc = words.WordForm(words.Word(type=r.WORD_TYPE.NOUN,\n",
    "    #                            forms=[u'русалка', u'русалки', u'русалке', u'русалку', u'русалкой', u'русалке',\n",
    "    #                                   u'русалки', u'русалок', u'русалкам', u'русалок', u'русалками', u'русалках',\n",
    "    #                                   u'русалки', u'русалок', u'русалкам', u'русалок', u'русалками', u'русалках'],\n",
    "    #                             properties=words.Properties(r.ANIMALITY.ANIMATE, r.GENDER.NEUTER)))\n",
    "    \n",
    "    my_dictionary = dictionary.Dictionary(words=[degree_word, warm_word, frost_word])\n",
    "    template = templates.Template()\n",
    "    \n",
    "    if temp > 1:\n",
    "        template.parse('Ожидается [temp] [градус|temp|вн] [тепло|рд].', externals=('temp'))\n",
    "        temp = int(round(temp,0))\n",
    "    elif temp < -1:\n",
    "        temp = temp * -1\n",
    "        temp = int(round(temp,0))\n",
    "        template.parse('Ожидается [temp] [градус|temp|вн] [мороз|рд].', externals=('temp'))\n",
    "    else:\n",
    "        return('Ожидается температура около нуля')\n",
    "        \n",
    "    result = template.substitute(externals={\n",
    "                                           'temp': constructors.construct_integer(temp)\n",
    "                                           }, dictionary=my_dictionary)\n",
    "    return result\n",
    "    \n",
    "get_temp_phrase(-4.4)"
   ]
  },
  {
   "cell_type": "code",
   "execution_count": 10,
   "metadata": {},
   "outputs": [
    {
     "data": {
      "text/plain": [
       "'северный'"
      ]
     },
     "execution_count": 10,
     "metadata": {},
     "output_type": "execute_result"
    }
   ],
   "source": [
    "def get_wind_direction(V,U):\n",
    "    # Учтем, что в данных у нас направление ветра (на север), \n",
    "    # а в сводках указывают откуда ветер дует (южный).\n",
    "    \n",
    "    if U == 0:\n",
    "        U = 0.001   # Уберем нуль в знаменателе. \n",
    "    rel = abs(V/U)\n",
    "    \n",
    "    #print(rel)\n",
    "    if V > 0:\n",
    "        if rel > 3:\n",
    "            return(\"южный\")\n",
    "        elif rel < 0.3:\n",
    "            if U > 0:\n",
    "                return(\"западный\")\n",
    "            else:\n",
    "                return(\"восточный\")\n",
    "        else:\n",
    "            if U > 0:\n",
    "                return(\"юго-западный\")\n",
    "            else:\n",
    "                return(\"юго-восточный\")\n",
    "    else:\n",
    "        if rel > 3:\n",
    "            return(\"северный\")\n",
    "        elif rel < 0.3:\n",
    "            if U > 0:\n",
    "                return(\"западный\")\n",
    "            else:\n",
    "                return(\"восточный\")\n",
    "        else:\n",
    "            if U > 0:\n",
    "                return(\"северо-западный\")\n",
    "            else:\n",
    "                return(\"северо-восточный\")\n",
    "get_wind_direction(-100,-10)"
   ]
  },
  {
   "cell_type": "code",
   "execution_count": 11,
   "metadata": {},
   "outputs": [
    {
     "data": {
      "text/plain": [
       "'Ветер южный,  3м/с, возможны порывы до  5м/с.'"
      ]
     },
     "execution_count": 11,
     "metadata": {},
     "output_type": "execute_result"
    }
   ],
   "source": [
    "def get_wind_phrase(V,U, gust):\n",
    "    direction = get_wind_direction(V,U)\n",
    "    power = (V*V + U*U)**0.5\n",
    "    rv = \"Ветер {}, {:2.0f}м/с, возможны порывы до {:2.0f}м/с.\".format(direction, power, gust)\n",
    "    return(rv)\n",
    "get_wind_phrase(3,0,5)"
   ]
  },
  {
   "cell_type": "code",
   "execution_count": 17,
   "metadata": {},
   "outputs": [
    {
     "data": {
      "text/plain": [
       "'снег с дождем'"
      ]
     },
     "execution_count": 17,
     "metadata": {},
     "output_type": "execute_result"
    }
   ],
   "source": [
    "def get_precipitate_type(t: int):\n",
    "    \"\"\"\n",
    "    Определим вид осадков по температре t,\n",
    "    0 - дождь, t > 3\n",
    "    1 - снег,  t < -1\n",
    "    2 - снег с дождем\n",
    "    \n",
    "    Значения температуры взяты наобум, \n",
    "    каких-либо авторитетных источников по этому вопросу найти не удалось.\n",
    "    TODO: можно учитывать температуру на разных высотах,\n",
    "    чтобы более точно определять вид осадков.\n",
    "    Также можно определять вероятность ледяного дождя.\n",
    "    \"\"\"\n",
    "    rv = '';\n",
    "    if t > 5:\n",
    "        return 'дождь'\n",
    "    elif t < - 1:\n",
    "        return 'снег'\n",
    "    return 'снег с дождем'\n",
    "get_precipitate_type(1)"
   ]
  },
  {
   "cell_type": "code",
   "execution_count": 18,
   "metadata": {},
   "outputs": [
    {
     "data": {
      "text/plain": [
       "'Дождь.'"
      ]
     },
     "execution_count": 18,
     "metadata": {},
     "output_type": "execute_result"
    }
   ],
   "source": [
    "def get_precipitate_phrase(p: int, t: int):\n",
    "    \"\"\"\n",
    "    Размерность предсказаний - мм/ч, \n",
    "    \"\"\"\n",
    "    rv = \"\"\n",
    "    tp = get_precipitate_type(t)\n",
    "    if p == 0:\n",
    "        rv = \"Осадков не ожидается.\"\n",
    "    elif p < 0.05:       \n",
    "        rv = \"Возможен слабый {}.\".format(tp)\n",
    "    elif p < 0.2:\n",
    "        rv = \"Слабый {}.\".format(tp)\n",
    "    elif p < 0.6: \n",
    "        rv = tp[0].upper() + tp[1:] + '.'\n",
    "    else:\n",
    "        if t > 3:\n",
    "            rv = \"Ливень\"\n",
    "        elif t < -1 :\n",
    "            rv = \"Снегопад\"\n",
    "        else:\n",
    "            rv = \"Сильный снег с дождем.\"\n",
    "    return rv\n",
    "\n",
    "get_precipitate_phrase(0.5,6)"
   ]
  },
  {
   "cell_type": "code",
   "execution_count": 139,
   "metadata": {
    "scrolled": true
   },
   "outputs": [
    {
     "data": {
      "text/plain": [
       "'Прогноз погоды на 13 часов субботы, 6 января 2018 года.'"
      ]
     },
     "execution_count": 139,
     "metadata": {},
     "output_type": "execute_result"
    }
   ],
   "source": [
    "def get_frcst_date_phrase(d):\n",
    "    \n",
    "    year_word = words.Word(type=r.WORD_TYPE.NOUN,\n",
    "                                            forms=['год', 'года', 'году', 'год', 'годом', 'годе', \n",
    "                                                   'годов', 'года', 'года', 'годы', 'годами', 'годах', \n",
    "                                                   'годов', 'года', 'года', 'годы', 'годами', 'годах'],\n",
    "                                            properties=words.Properties(r.ANIMALITY.INANIMATE, r.GENDER.MASCULINE))\n",
    "    \n",
    "    hour_word = words.Word(type=r.WORD_TYPE.NOUN,\n",
    "                                            forms=['час', 'часа', 'часу', 'час', 'часом', 'часе', \n",
    "                                                   'часы', 'часов', 'часам', 'часы', 'часами', 'часах', \n",
    "                                                   'часы', 'часов', 'часам', 'часы', 'часами', 'часах',],\n",
    "                                            properties=words.Properties(r.ANIMALITY.INANIMATE, r.GENDER.MASCULINE))\n",
    "    \n",
    "    my_dictionary = dictionary.Dictionary(words=[year_word, hour_word])\n",
    "    \n",
    "    dow = []\n",
    "    dow.append( words.WordForm(words.Word(type=r.WORD_TYPE.NOUN,\n",
    "                forms=['понедельник', 'понедельника', 'понедельнику', 'понедельник', 'понедельником', 'понедельнике', \n",
    "                       'понедельники', 'понедельников', 'понедельникам', 'понедельники', 'понедельниками', 'понедельниках',\n",
    "                       'понедельники', 'понедельников', 'понедельникам', 'понедельники', 'понедельниками', 'понедельниках'],\n",
    "                properties=words.Properties(r.ANIMALITY.INANIMATE, r.GENDER.MASCULINE))))\n",
    "    dow.append(words.WordForm(words.Word(type=r.WORD_TYPE.NOUN,\n",
    "                forms=['вторник', 'вторника', 'вторнику', 'вторник', 'вторником', 'вторнике', \n",
    "                       'вторники', 'вторников', 'вторникам', 'вторники', 'вторниками', 'вторниках', \n",
    "                       'вторники', 'вторников', 'вторникам', 'вторники', 'вторниками', 'вторниках'],\n",
    "                properties=words.Properties(r.ANIMALITY.INANIMATE, r.GENDER.MASCULINE))))\n",
    "    dow.append(words.WordForm(words.Word(type=r.WORD_TYPE.NOUN,\n",
    "                forms=['среда', 'среды', 'среде', 'среду', 'средой', 'среде', \n",
    "                       'среды', 'сред', 'средам', 'среды', 'средами', 'средах',\n",
    "                       'среды', 'сред', 'средам', 'среды', 'средами', 'средах'],\n",
    "                properties=words.Properties(r.ANIMALITY.INANIMATE, r.GENDER.MASCULINE))))\n",
    "    \n",
    "    dow.append(words.WordForm(words.Word(type=r.WORD_TYPE.NOUN,\n",
    "                forms=['четверг', 'четверга', 'четвергу', 'четверг', 'четвергом', 'четверге', \n",
    "                       'четверги', 'четвергов', 'четвергам', 'четверги', 'четвергами', 'четвергах',\n",
    "                       'четверги', 'четвергов', 'четвергам', 'четверги', 'четвергами', 'четвергах'],\n",
    "                properties=words.Properties(r.ANIMALITY.INANIMATE, r.GENDER.MASCULINE))))\n",
    "        \n",
    "    dow.append(words.WordForm(words.Word(type=r.WORD_TYPE.NOUN,\n",
    "                forms=['пятница', 'пятницы', 'пятнице', 'пятницу', 'пятницей', 'пятнице',\n",
    "                       'пятницы', 'пятниц', 'пятницам', 'пятницы', 'пятницами', 'пятницах',\n",
    "                       'пятницы', 'пятниц', 'пятницам', 'пятницы', 'пятницами', 'пятницах' ],\n",
    "                properties=words.Properties(r.ANIMALITY.INANIMATE, r.GENDER.MASCULINE))))\n",
    "    \n",
    "    dow.append(words.WordForm(words.Word(type=r.WORD_TYPE.NOUN,\n",
    "                forms=['суббота', 'субботы', 'субботе', 'субботу', 'субботой', 'субботе', \n",
    "                       'субботы', 'суббот', 'субботам', 'субботы', 'субботами', 'субботах', \n",
    "                       'субботы', 'суббот', 'субботам', 'субботы', 'субботами', 'субботах'],\n",
    "                properties=words.Properties(r.ANIMALITY.INANIMATE, r.GENDER.MASCULINE))))\n",
    "        \n",
    "    dow.append(words.WordForm(words.Word(type=r.WORD_TYPE.NOUN,\n",
    "                forms=['воскресенье', 'воскресения', 'воскресенью', 'воскресенье', 'воскресеньем', 'воскресеньи', \n",
    "                       'воскресенья', 'воскресений', 'воскресеньям', 'воскресенья', 'воскресеньями', 'воскресеньях', \n",
    "                       'воскресенья', 'воскресений', 'воскресеньям', 'воскресенья', 'воскресеньями', 'воскресеньях'],\n",
    "                properties=words.Properties(r.ANIMALITY.INANIMATE, r.GENDER.MASCULINE))))\n",
    "\n",
    "\n",
    "    months = []\n",
    "    months.append(words.WordForm(words.Word(type=r.WORD_TYPE.NOUN,\n",
    "                forms=['январь', 'января', 'январю', 'январь', 'январём', 'январе', \n",
    "                       'январи', 'январей', 'январям', 'январи', 'январями', 'январях', \n",
    "                       'январи', 'январей', 'январям', 'январи', 'январями', 'январях'],\n",
    "                properties=words.Properties(r.ANIMALITY.INANIMATE, r.GENDER.MASCULINE))))\n",
    "    \n",
    "    \n",
    "   \n",
    "    t1 = templates.Template()\n",
    "    #template.parse('Сейчас [temp] [градус|temp|вн] [тепло|рд].', externals=('temp'))\n",
    "    t1.parse('Прогноз погоды на [hour] [час|hour] [dow|рд], [dom] [month|рд] [year] [год|year].', \n",
    "                   externals = ('hour','dow', 'dom','month','year'))\n",
    "    r1 = t1.substitute(externals={\n",
    "                                'hour': constructors.construct_integer(d.hour),\n",
    "                                'dow': dow[d.isoweekday() - 1],\n",
    "                                'dom': constructors.construct_integer(d.day),\n",
    "                                'month': months[d.month - 1],\n",
    "                                'year': constructors.construct_integer(d.year)  \n",
    "                            }, dictionary=my_dictionary)\n",
    "    return r1\n",
    "\n",
    "get_frcst_date_phrase(frcst_date)"
   ]
  },
  {
   "cell_type": "markdown",
   "metadata": {},
   "source": [
    "# Flood"
   ]
  },
  {
   "cell_type": "code",
   "execution_count": 140,
   "metadata": {},
   "outputs": [
    {
     "name": "stdout",
     "output_type": "stream",
     "text": [
      "Cloud Cover: 98.0\n"
     ]
    }
   ],
   "source": [
    "# Облачность.\n",
    "# В gfs файлах данные по облачности есть для нескольких уровней:\n",
    "# низкая, средняя, выская и общая. \n",
    "# Код хранится в ключе typeOfFirstFixedSurface, \n",
    "# нас интересует вся атмосфера, typeOfFirstFixedSurface = 10\n",
    "# Коды есть здесь: http://www.cosmo-model.org/content/model/documentation/grib/pdtemplate_4.41.htm , \n",
    "# но это неполный список. \n",
    "# Более полный удалось найти в исходниках программы zyGrib: http://www.zygrib.org/\n",
    "clouds = myfile.select(name = 'Total Cloud Cover')\n",
    "for i in clouds:\n",
    "    if int(i['typeOfFirstFixedSurface']) == 10:\n",
    "        moscow_cloud = i.data()[0][MOSCOW_LAT_INDEX][MOSCOW_LON_INDEX]\n",
    "print(\"Cloud Cover: {}\".format(moscow_cloud))"
   ]
  },
  {
   "cell_type": "code",
   "execution_count": null,
   "metadata": {
    "collapsed": true
   },
   "outputs": [],
   "source": [
    "t = myfile.select(name = 'Wind speed (gust)')\n",
    "t1 = t[0]"
   ]
  },
  {
   "cell_type": "code",
   "execution_count": null,
   "metadata": {},
   "outputs": [],
   "source": [
    "t1.latlons()"
   ]
  },
  {
   "cell_type": "code",
   "execution_count": null,
   "metadata": {},
   "outputs": [],
   "source": [
    "# описываем существительное для словаря\n",
    "coins_word = words.Word(type=r.WORD_TYPE.NOUN,\n",
    "                        forms=[ u'монета', u'монеты', u'монете', u'монету', u'монетой', u'монете',    # единственнео число\n",
    "                                u'монеты', u'монет', u'монетам', u'монеты', u'монетами', u'монетах',  # множественное число\n",
    "                                u'монеты', u'монет', u'монетам', u'монеты', u'монетами', u'монетах'], # счётное число (заполнено для пример, может быть заполнено методом autofill_missed_forms)\n",
    "                        properties=words.Properties(r.ANIMALITY.INANIMATE, r.GENDER.FEMININE)) # свойства: неодушевлённое, женский род\n",
    "\n",
    "# описываем глагол для словаря\n",
    "action_word = words.Word(type=r.WORD_TYPE.VERB,\n",
    "                         # описываем только нужны нам формы слова (порядок важен и определён в utg.data.WORDS_CACHES[r.WORD_TYPE.VERB])\n",
    "                         forms=[u'подарить', u'подарил', u'подарило', u'подарила', u'подарили'] + [u''] * (len(data.WORDS_CACHES[r.WORD_TYPE.VERB]) - 5),\n",
    "                         properties=words.Properties(r.ASPECT.PERFECTIVE, r.VOICE.DIRECT) )\n",
    "action_word.autofill_missed_forms() # заполняем пропущенные формы на основе введённых (выбираются наиболее близкие)\n",
    "\n",
    "# создаём словарь для использования в шаблонах\n",
    "test_dictionary = dictionary.Dictionary(words=[coins_word, action_word])\n",
    "\n",
    "# создаём шаблон\n",
    "template = templates.Template()\n",
    "\n",
    "# externals — внешние переменные, не обязаны быть в словаре\n",
    "template.parse(u'[Npc] [подарил|npc] [hero|дт] [coins] [монета|coins|вн].', externals=('hero', 'npc', 'coins'))\n",
    "\n",
    "# описываем внешние переменные\n",
    "hero = words.WordForm(words.Word(type=r.WORD_TYPE.NOUN,\n",
    "                                 forms=[u'герой', u'героя', u'герою', u'героя', u'героем', u'герое',\n",
    "                                        u'герои', u'героев', u'героям', u'героев', u'героями', u'героях',\n",
    "                                        u'герои', u'героев', u'героям', u'героев', u'героями', u'героях'],\n",
    "                                 properties=words.Properties(r.ANIMALITY.ANIMATE, r.GENDER.MASCULINE)))\n",
    "\n",
    "npc = words.WordForm(words.Word(type=r.WORD_TYPE.NOUN,\n",
    "                                forms=[u'русалка', u'русалки', u'русалке', u'русалку', u'русалкой', u'русалке',\n",
    "                                       u'русалки', u'русалок', u'русалкам', u'русалок', u'русалками', u'русалках',\n",
    "                                       u'русалки', u'русалок', u'русалкам', u'русалок', u'русалками', u'русалках'],\n",
    "                                 properties=words.Properties(r.ANIMALITY.ANIMATE, r.GENDER.FEMININE)))\n",
    "\n",
    "# осуществляем подстановку\n",
    "result = template.substitute(externals={'hero': hero,\n",
    "                                        'npc': npc,\n",
    "                                        'coins': constructors.construct_integer(125)},\n",
    "                             dictionary=test_dictionary)\n",
    "\n",
    "result"
   ]
  },
  {
   "cell_type": "code",
   "execution_count": null,
   "metadata": {},
   "outputs": [],
   "source": [
    "int(round(t,0))"
   ]
  },
  {
   "cell_type": "code",
   "execution_count": 20,
   "metadata": {
    "collapsed": true
   },
   "outputs": [],
   "source": [
    "def generate_forms(word):\n",
    "    morph = pymorphy2.MorphAnalyzer()\n",
    "    p = morph.parse(word)[0]\n",
    "    res = []\n",
    "    lexems = p.lexeme\n",
    "    if 'NOUN' in p.tag:\n",
    "        for i in range(len(lexems)):\n",
    "            res.append(lexems[i][4][0][1])\n",
    "        #print(res)\n",
    "        if 'femn' in p.tag:\n",
    "            res1 = res[:5]\n",
    "            res1.append(res[6])\n",
    "            res1.extend(res[7:])\n",
    "            res1.extend(res1[6:])\n",
    "            return(res1)\n",
    "        else:\n",
    "            res.extend(res[6:])\n",
    "            return(res)\n",
    "    if 'VERB' in p.tag or 'INFN' in p.tag:\n",
    "        for i in [0,1,3,2,4]:\n",
    "            res.append(lexems[i][4][0][1])\n",
    "        return(res)\n",
    "    if 'ADJF' in p.tag:\n",
    "        for i in range(18):\n",
    "            res.append(lexems[i][4][0][1])\n",
    "        return(res)"
   ]
  },
  {
   "cell_type": "code",
   "execution_count": 127,
   "metadata": {},
   "outputs": [
    {
     "name": "stdout",
     "output_type": "stream",
     "text": [
      "['воскресение', 'воскресенье', 'воскресения', 'воскресенья', 'воскресению', 'воскресенью', 'воскресение', 'воскресенье', 'воскресением', 'воскресеньем', 'воскресении', 'воскресенье', 'воскресеньи', 'воскресения', 'воскресенья', 'воскресений', 'воскресениям', 'воскресеньям', 'воскресения', 'воскресенья', 'воскресениями', 'воскресеньями', 'воскресениях', 'воскресеньях', 'воскресение', 'воскресенье', 'воскресением', 'воскресеньем', 'воскресении', 'воскресенье', 'воскресеньи', 'воскресения', 'воскресенья', 'воскресений', 'воскресениям', 'воскресеньям', 'воскресения', 'воскресенья', 'воскресениями', 'воскресеньями', 'воскресениях', 'воскресеньях']\n"
     ]
    }
   ],
   "source": [
    "print(generate_forms('воскресенье'))"
   ]
  },
  {
   "cell_type": "code",
   "execution_count": null,
   "metadata": {
    "collapsed": true
   },
   "outputs": [],
   "source": []
  }
 ],
 "metadata": {
  "kernelspec": {
   "display_name": "Python 3",
   "language": "python",
   "name": "python3"
  },
  "language_info": {
   "codemirror_mode": {
    "name": "ipython",
    "version": 3
   },
   "file_extension": ".py",
   "mimetype": "text/x-python",
   "name": "python",
   "nbconvert_exporter": "python",
   "pygments_lexer": "ipython3",
   "version": "3.6.3"
  }
 },
 "nbformat": 4,
 "nbformat_minor": 2
}
