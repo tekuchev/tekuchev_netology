{
 "cells": [
  {
   "cell_type": "markdown",
   "metadata": {},
   "source": [
    "# Задание:\n",
    "\n",
    " *    Выбрать свой источник структурированных данных (прогноз погоды, курс акций, счет спортивных мероприятий, или что-нибудь еще);\n",
    " *  Научиться извлекать данные из с выбранной веб-страницы;\n",
    " *   Научиться генерировать текст по шаблонам.\n"
   ]
  },
  {
   "cell_type": "markdown",
   "metadata": {},
   "source": [
    "### Источник  данных и извлечение нужных полей.\n",
    "\n",
    "В качестве источника данных будем использовать глобальную службу прогнозирования погоды (Global Forecast System (GFS)). Служба предоставляет прогноз погоды на 8 дней с максимальным разрешением в 0.25 градуса. Прогноз распространяется в виде файлов в формате GRIB (GRIdded Binary). Файлы доступны для скачивания:\n",
    "http://nomads.ncep.noaa.gov/pub/data/nccf/com/gfs/prod/gfs.2017123006/\n",
    "Прогноз обновляется каждые 6 часов.\n",
    "Для работы с grib-файлами нужна библиотека pygrib"
   ]
  },
  {
   "cell_type": "markdown",
   "metadata": {},
   "source": [
    "Файл прогноза погоды на 30 января 2017г. \n",
    " * cd /home/anaconda/var/grib\n",
    " * wget http://nomads.ncep.noaa.gov/pub/data/nccf/com/gfs/prod/gfs.2017123006/gfs.t06z.pgrb2.0p25.f000"
   ]
  },
  {
   "cell_type": "code",
   "execution_count": 1,
   "metadata": {
    "collapsed": true
   },
   "outputs": [],
   "source": [
    "import pygrib"
   ]
  },
  {
   "cell_type": "code",
   "execution_count": 2,
   "metadata": {
    "collapsed": true
   },
   "outputs": [],
   "source": [
    "filename = '/home/anaconda/var/grib/gfs.t06z.pgrb2.0p25.f000'\n",
    "myfile = pygrib.open(filename)"
   ]
  },
  {
   "cell_type": "code",
   "execution_count": 20,
   "metadata": {
    "collapsed": true
   },
   "outputs": [],
   "source": [
    "# За координаты Москвы примем точку 55.75N,37.75E\n",
    "# Данные хранятся в двумерных массивах. Индексы - узлы координатной сетки. Широта [90 .. -90], Долгота [0 ... 360 )\n",
    "# Шаг - четверть градуса\n",
    "# Идексы в массивах данных для Москвы:\n",
    "MOSCOW_LAT_INDEX = (90 - 56)*4 + 1 \n",
    "MOSCOW_LON_INDEX= 37*4  + 3"
   ]
  },
  {
   "cell_type": "code",
   "execution_count": 25,
   "metadata": {
    "scrolled": false
   },
   "outputs": [
    {
     "name": "stdout",
     "output_type": "stream",
     "text": [
      "Temperature: 0.75; pressure: 101699.00, wind: 4.33, gust to 9.61\n"
     ]
    }
   ],
   "source": [
    "# Файл содержит GRIB-сообщения. \n",
    "# Каждое сообщение содержит значения параметра для всей координатной сетки\n",
    "# У сообщения есть поля ID и name. \n",
    "# Сообщения с одинаковыми именами различаются высотой над уровнем моря, в этом случае select возвращает \n",
    "#  массив из нескольких элементов.\n",
    "# Параметры, которые мы используем, имеют только одну высоту (2 метра или 10 метров), используем только первый эл-т массива.\n",
    "\n",
    "moscow_t = myfile.select(name = '2 metre temperature')[0].data()[0][MOSCOW_LAT_INDEX][MOSCOW_LON_INDEX]\n",
    "moscow_p = myfile.select(name = 'Pressure reduced to MSL')[0].data()[0][MOSCOW_LAT_INDEX][MOSCOW_LON_INDEX]\n",
    "moscow_wg = myfile.select(name = 'Wind speed (gust)')[0].data()[0][MOSCOW_LAT_INDEX][MOSCOW_LON_INDEX]\n",
    "\n",
    "# Для ветра есть \"Восточная\"- U и  \"Северная\"  - V составляющая.\n",
    "moscow_wu = myfile.select(name = '10 metre U wind component')[0].data()[0][MOSCOW_LAT_INDEX][MOSCOW_LON_INDEX]\n",
    "moscow_wv = myfile.select(name = '10 metre V wind component')[0].data()[0][MOSCOW_LAT_INDEX][MOSCOW_LON_INDEX]\n",
    "moscow_w = (moscow_wu**2 + moscow_wv**2)**0.5\n",
    "\n",
    "# Температура указывается в Кельвинах. Переведем в градусы Цельсия.\n",
    "moscow_t = moscow_t - 273.15\n",
    "print(\"Temperature: {:1.2f}; pressure: {:1.2f}, wind: {:1.2f}, gust to {:1.2f}\".format(moscow_t, moscow_p, moscow_w,moscow_wg))"
   ]
  },
  {
   "cell_type": "markdown",
   "metadata": {},
   "source": [
    "# Генерация текста по шаблонам"
   ]
  },
  {
   "cell_type": "code",
   "execution_count": 50,
   "metadata": {
    "collapsed": true
   },
   "outputs": [],
   "source": [
    "import pymorphy2\n",
    "\n",
    "from utg import relations as r\n",
    "from utg import logic\n",
    "from utg import data\n",
    "from utg import dictionary\n",
    "from utg import words\n",
    "from utg import templates\n",
    "from utg import constructors"
   ]
  },
  {
   "cell_type": "code",
   "execution_count": 39,
   "metadata": {
    "scrolled": true
   },
   "outputs": [
    {
     "data": {
      "text/plain": [
       "['победить', 'победил', 'победило', 'победила', 'победили']"
      ]
     },
     "execution_count": 39,
     "metadata": {},
     "output_type": "execute_result"
    }
   ],
   "source": [
    "morph = pymorphy2.MorphAnalyzer()\n",
    "\n",
    "def generate_forms(word):\n",
    "    p = morph.parse(word)[0]\n",
    "    res = []\n",
    "    lexems = p.lexeme\n",
    "    if 'NOUN' in p.tag:\n",
    "        for i in range(len(lexems)):\n",
    "            res.append(lexems[i][4][0][1])\n",
    "        #print(res)\n",
    "        if 'femn' in p.tag:\n",
    "            res1 = res[:5]\n",
    "            res1.append(res[6])\n",
    "            res1.extend(res[7:])\n",
    "            res1.extend(res1[6:])\n",
    "            return(res1)\n",
    "        else:\n",
    "            res.extend(res[6:])\n",
    "            return(res)\n",
    "    if 'VERB' in p.tag or 'INFN' in p.tag:\n",
    "        for i in [0,1,3,2,4]:\n",
    "            res.append(lexems[i][4][0][1])\n",
    "        return(res)\n",
    "    if 'ADJF' in p.tag:\n",
    "        for i in range(18):\n",
    "            res.append(lexems[i][4][0][1])\n",
    "        return(res)\n",
    "    \n",
    "a = generate_forms('Победить')\n",
    "a"
   ]
  },
  {
   "cell_type": "markdown",
   "metadata": {},
   "source": [
    "# Flood"
   ]
  },
  {
   "cell_type": "code",
   "execution_count": 18,
   "metadata": {},
   "outputs": [],
   "source": [
    "t = myfile.select(name = 'Wind speed (gust)')\n",
    "t1 = t[0]"
   ]
  },
  {
   "cell_type": "code",
   "execution_count": 19,
   "metadata": {},
   "outputs": [
    {
     "data": {
      "text/plain": [
       "(array([[ 90.  ,  90.  ,  90.  , ...,  90.  ,  90.  ,  90.  ],\n",
       "        [ 89.75,  89.75,  89.75, ...,  89.75,  89.75,  89.75],\n",
       "        [ 89.5 ,  89.5 ,  89.5 , ...,  89.5 ,  89.5 ,  89.5 ],\n",
       "        ..., \n",
       "        [-89.5 , -89.5 , -89.5 , ..., -89.5 , -89.5 , -89.5 ],\n",
       "        [-89.75, -89.75, -89.75, ..., -89.75, -89.75, -89.75],\n",
       "        [-90.  , -90.  , -90.  , ..., -90.  , -90.  , -90.  ]]),\n",
       " array([[  0.00000000e+00,   2.50000000e-01,   5.00000000e-01, ...,\n",
       "           3.59250000e+02,   3.59500000e+02,   3.59750000e+02],\n",
       "        [  0.00000000e+00,   2.50000000e-01,   5.00000000e-01, ...,\n",
       "           3.59250000e+02,   3.59500000e+02,   3.59750000e+02],\n",
       "        [  0.00000000e+00,   2.50000000e-01,   5.00000000e-01, ...,\n",
       "           3.59250000e+02,   3.59500000e+02,   3.59750000e+02],\n",
       "        ..., \n",
       "        [  0.00000000e+00,   2.50000000e-01,   5.00000000e-01, ...,\n",
       "           3.59250000e+02,   3.59500000e+02,   3.59750000e+02],\n",
       "        [  0.00000000e+00,   2.50000000e-01,   5.00000000e-01, ...,\n",
       "           3.59250000e+02,   3.59500000e+02,   3.59750000e+02],\n",
       "        [  0.00000000e+00,   2.50000000e-01,   5.00000000e-01, ...,\n",
       "           3.59250000e+02,   3.59500000e+02,   3.59750000e+02]]))"
      ]
     },
     "execution_count": 19,
     "metadata": {},
     "output_type": "execute_result"
    }
   ],
   "source": [
    "t1.latlons()"
   ]
  },
  {
   "cell_type": "code",
   "execution_count": 75,
   "metadata": {},
   "outputs": [
    {
     "data": {
      "text/plain": [
       "'Русалка подарила герою 125 монет.'"
      ]
     },
     "execution_count": 75,
     "metadata": {},
     "output_type": "execute_result"
    }
   ],
   "source": [
    "# описываем существительное для словаря\n",
    "coins_word = words.Word(type=r.WORD_TYPE.NOUN,\n",
    "                        forms=[ u'монета', u'монеты', u'монете', u'монету', u'монетой', u'монете',    # единственнео число\n",
    "                                u'монеты', u'монет', u'монетам', u'монеты', u'монетами', u'монетах',  # множественное число\n",
    "                                u'монеты', u'монет', u'монетам', u'монеты', u'монетами', u'монетах'], # счётное число (заполнено для пример, может быть заполнено методом autofill_missed_forms)\n",
    "                        properties=words.Properties(r.ANIMALITY.INANIMATE, r.GENDER.FEMININE)) # свойства: неодушевлённое, женский род\n",
    "\n",
    "# описываем глагол для словаря\n",
    "action_word = words.Word(type=r.WORD_TYPE.VERB,\n",
    "                         # описываем только нужны нам формы слова (порядок важен и определён в utg.data.WORDS_CACHES[r.WORD_TYPE.VERB])\n",
    "                         forms=[u'подарить', u'подарил', u'подарило', u'подарила', u'подарили'] + [u''] * (len(data.WORDS_CACHES[r.WORD_TYPE.VERB]) - 5),\n",
    "                         properties=words.Properties(r.ASPECT.PERFECTIVE, r.VOICE.DIRECT) )\n",
    "action_word.autofill_missed_forms() # заполняем пропущенные формы на основе введённых (выбираются наиболее близкие)\n",
    "\n",
    "# создаём словарь для использования в шаблонах\n",
    "test_dictionary = dictionary.Dictionary(words=[coins_word, action_word])\n",
    "\n",
    "# создаём шаблон\n",
    "template = templates.Template()\n",
    "\n",
    "# externals — внешние переменные, не обязаны быть в словаре\n",
    "template.parse(u'[Npc] [подарил|npc] [hero|дт] [coins] [монета|coins|вн].', externals=('hero', 'npc', 'coins'))\n",
    "\n",
    "# описываем внешние переменные\n",
    "hero = words.WordForm(words.Word(type=r.WORD_TYPE.NOUN,\n",
    "                                 forms=[u'герой', u'героя', u'герою', u'героя', u'героем', u'герое',\n",
    "                                        u'герои', u'героев', u'героям', u'героев', u'героями', u'героях',\n",
    "                                        u'герои', u'героев', u'героям', u'героев', u'героями', u'героях'],\n",
    "                                 properties=words.Properties(r.ANIMALITY.ANIMATE, r.GENDER.MASCULINE)))\n",
    "\n",
    "npc = words.WordForm(words.Word(type=r.WORD_TYPE.NOUN,\n",
    "                                forms=[u'русалка', u'русалки', u'русалке', u'русалку', u'русалкой', u'русалке',\n",
    "                                       u'русалки', u'русалок', u'русалкам', u'русалок', u'русалками', u'русалках',\n",
    "                                       u'русалки', u'русалок', u'русалкам', u'русалок', u'русалками', u'русалках'],\n",
    "                                 properties=words.Properties(r.ANIMALITY.ANIMATE, r.GENDER.FEMININE)))\n",
    "\n",
    "# осуществляем подстановку\n",
    "result = template.substitute(externals={'hero': hero,\n",
    "                                        'npc': npc,\n",
    "                                        'coins': constructors.construct_integer(125)},\n",
    "                             dictionary=test_dictionary)\n",
    "\n",
    "result"
   ]
  },
  {
   "cell_type": "code",
   "execution_count": 36,
   "metadata": {},
   "outputs": [
    {
     "data": {
      "text/plain": [
       "'Русалка подарило герою 125 монет.'"
      ]
     },
     "execution_count": 36,
     "metadata": {},
     "output_type": "execute_result"
    }
   ],
   "source": [
    "result"
   ]
  },
  {
   "cell_type": "code",
   "execution_count": 80,
   "metadata": {},
   "outputs": [
    {
     "data": {
      "text/plain": [
       "'Сейчас -1 градус тепла.'"
      ]
     },
     "execution_count": 80,
     "metadata": {},
     "output_type": "execute_result"
    }
   ],
   "source": [
    "def get_temp_phrase(temp: int):\n",
    "    degree_word =  words.Word(type=r.WORD_TYPE.NOUN,\n",
    "                                            forms=['градус', 'градуса', 'градусу', 'градус', 'градусом', 'градусе', \n",
    "                                                   'градусы', 'градусов', 'градусам', 'градусы', 'градусами', 'градусах', \n",
    "                                                   'градусы', 'градусов', 'градусам', 'градусы', 'градусами', 'градусах'],\n",
    "                                            properties=words.Properties(r.ANIMALITY.INANIMATE, r.GENDER.MASCULINE))\n",
    "    warm_word =  words.Word(type=r.WORD_TYPE.NOUN,\n",
    "                                            forms=['тепло', 'тепла', 'теплу', 'тепло', 'теплом', 'тепле', \n",
    "                                                   '', '', '', '', '', '', \n",
    "                                                   '', '', '', '', '', ''],\n",
    "                                            properties=words.Properties(r.ANIMALITY.INANIMATE, r.GENDER.MASCULINE))\n",
    "    \n",
    "    frost_word = words.Word(type=r.WORD_TYPE.NOUN,\n",
    "                            forms=['мороз', 'мороза', 'морозу', 'мороза', 'морозом', 'морозе',  \n",
    "                                   'морозы', 'морозов', 'морозам', 'морозов', 'морозами', 'морозах', \n",
    "                                   'морозы', 'морозов', 'морозам', 'морозов', 'морозами', 'морозах']\n",
    "\n",
    "    #npc = words.WordForm(words.Word(type=r.WORD_TYPE.NOUN,\n",
    "    #                            forms=[u'русалка', u'русалки', u'русалке', u'русалку', u'русалкой', u'русалке',\n",
    "    #                                   u'русалки', u'русалок', u'русалкам', u'русалок', u'русалками', u'русалках',\n",
    "    #                                   u'русалки', u'русалок', u'русалкам', u'русалок', u'русалками', u'русалках'],\n",
    "    #                             properties=words.Properties(r.ANIMALITY.ANIMATE, r.GENDER.NEUTER)))\n",
    "    \n",
    "    my_dictionary = dictionary.Dictionary(words=[degree_word, warm_word])\n",
    "    template = templates.Template()\n",
    "    template.parse('Сейчас [temp] [градус|temp|вн] [тепло|рд].', externals=('temp'))\n",
    "    result = template.substitute(externals={\n",
    "                                           'temp': constructors.construct_integer(temp)\n",
    "                                           }, dictionary=my_dictionary)\n",
    "    return result\n",
    "    \n",
    "get_temp_phrase(-1)"
   ]
  },
  {
   "cell_type": "code",
   "execution_count": null,
   "metadata": {},
   "outputs": [],
   "source": []
  },
  {
   "cell_type": "code",
   "execution_count": 40,
   "metadata": {
    "collapsed": true
   },
   "outputs": [],
   "source": [
    "def generate_forms(word):\n",
    "    p = morph.parse(word)[0]\n",
    "    res = []\n",
    "    lexems = p.lexeme\n",
    "    if 'NOUN' in p.tag:\n",
    "        for i in range(len(lexems)):\n",
    "            res.append(lexems[i][4][0][1])\n",
    "        #print(res)\n",
    "        if 'femn' in p.tag:\n",
    "            res1 = res[:5]\n",
    "            res1.append(res[6])\n",
    "            res1.extend(res[7:])\n",
    "            res1.extend(res1[6:])\n",
    "            return(res1)\n",
    "        else:\n",
    "            res.extend(res[6:])\n",
    "            return(res)\n",
    "    if 'VERB' in p.tag or 'INFN' in p.tag:\n",
    "        for i in [0,1,3,2,4]:\n",
    "            res.append(lexems[i][4][0][1])\n",
    "        return(res)\n",
    "    if 'ADJF' in p.tag:\n",
    "        for i in range(18):\n",
    "            res.append(lexems[i][4][0][1])\n",
    "        return(res)"
   ]
  },
  {
   "cell_type": "code",
   "execution_count": 81,
   "metadata": {},
   "outputs": [
    {
     "name": "stdout",
     "output_type": "stream",
     "text": [
      "['мороз', 'мороза', 'морозу', 'мороза', 'морозом', 'морозе', 'мороз', 'мороз', 'мороз', 'мороз', 'мороз', 'мороз', 'морозы', 'морозов', 'морозам', 'морозов', 'морозами', 'морозах', 'мороз', 'мороз', 'мороз', 'мороз', 'мороз', 'мороз', 'морозы', 'морозов', 'морозам', 'морозов', 'морозами', 'морозах']\n"
     ]
    }
   ],
   "source": [
    "print(generate_forms('мороз'))"
   ]
  },
  {
   "cell_type": "code",
   "execution_count": null,
   "metadata": {
    "collapsed": true
   },
   "outputs": [],
   "source": []
  }
 ],
 "metadata": {
  "kernelspec": {
   "display_name": "Python 3",
   "language": "python",
   "name": "python3"
  },
  "language_info": {
   "codemirror_mode": {
    "name": "ipython",
    "version": 3
   },
   "file_extension": ".py",
   "mimetype": "text/x-python",
   "name": "python",
   "nbconvert_exporter": "python",
   "pygments_lexer": "ipython3",
   "version": "3.6.3"
  }
 },
 "nbformat": 4,
 "nbformat_minor": 2
}
