{
 "cells": [
  {
   "cell_type": "code",
   "execution_count": 10,
   "metadata": {
    "collapsed": true
   },
   "outputs": [],
   "source": [
    "import sys\n",
    "import pandas as pd\n",
    "import scipy\n",
    "import numpy as np\n",
    "from os import path\n",
    "import re\n",
    "from scipy.sparse import csr_matrix, dok_matrix\n",
    "from sklearn.feature_extraction.text import CountVectorizer\n",
    "from sklearn import metrics as skm\n",
    "from lightfm import LightFM\n",
    "from lightfm.evaluation import precision_at_k, reciprocal_rank\n",
    "data_dir = \"/home/anaconda/data/latest_ml-100k/ml-latest-small/\""
   ]
  },
  {
   "cell_type": "markdown",
   "metadata": {},
   "source": [
    "Дальше нужно выполнить все ячейки из секци Library в конце документа."
   ]
  },
  {
   "cell_type": "code",
   "execution_count": 11,
   "metadata": {
    "collapsed": true
   },
   "outputs": [],
   "source": [
    "ratings = read_csv(\"ratings\")\n",
    "movies = read_csv(\"movies\")\n",
    "tags = read_csv('tags')\n",
    "movies[\"movie_id\"] = movies[\"movieId\"].astype(\"category\").cat.codes.copy() + 1\n",
    "last_movie_id = movies[\"movie_id\"].max()\n",
    "last_user_id = ratings[\"userId\"].max()\n",
    "ratings = ratings.apply(process_movie_id,axis=1)\n",
    "tags = tags.apply(process_movie_id,axis = 1)"
   ]
  },
  {
   "cell_type": "code",
   "execution_count": 12,
   "metadata": {},
   "outputs": [
    {
     "data": {
      "text/plain": [
       "3.543608255669773"
      ]
     },
     "execution_count": 12,
     "metadata": {},
     "output_type": "execute_result"
    }
   ],
   "source": [
    "mean_rating = ratings['rating'].mean()\n",
    "mean_rating"
   ]
  },
  {
   "cell_type": "code",
   "execution_count": 684,
   "metadata": {},
   "outputs": [
    {
     "data": {
      "text/html": [
       "<div>\n",
       "<style>\n",
       "    .dataframe thead tr:only-child th {\n",
       "        text-align: right;\n",
       "    }\n",
       "\n",
       "    .dataframe thead th {\n",
       "        text-align: left;\n",
       "    }\n",
       "\n",
       "    .dataframe tbody tr th {\n",
       "        vertical-align: top;\n",
       "    }\n",
       "</style>\n",
       "<table border=\"1\" class=\"dataframe\">\n",
       "  <thead>\n",
       "    <tr style=\"text-align: right;\">\n",
       "      <th></th>\n",
       "      <th>movieId</th>\n",
       "      <th>title</th>\n",
       "      <th>genres</th>\n",
       "      <th>movie_id</th>\n",
       "      <th>genres_list</th>\n",
       "    </tr>\n",
       "  </thead>\n",
       "  <tbody>\n",
       "    <tr>\n",
       "      <th>9120</th>\n",
       "      <td>162672</td>\n",
       "      <td>Mohenjo Daro (2016)</td>\n",
       "      <td>Adventure|Drama|Romance</td>\n",
       "      <td>9121</td>\n",
       "      <td>adventure drama romance</td>\n",
       "    </tr>\n",
       "    <tr>\n",
       "      <th>9121</th>\n",
       "      <td>163056</td>\n",
       "      <td>Shin Godzilla (2016)</td>\n",
       "      <td>Action|Adventure|Fantasy|Sci-Fi</td>\n",
       "      <td>9122</td>\n",
       "      <td>action adventure fantasy scifi</td>\n",
       "    </tr>\n",
       "    <tr>\n",
       "      <th>9122</th>\n",
       "      <td>163949</td>\n",
       "      <td>The Beatles: Eight Days a Week - The Touring Y...</td>\n",
       "      <td>Documentary</td>\n",
       "      <td>9123</td>\n",
       "      <td>documentary</td>\n",
       "    </tr>\n",
       "    <tr>\n",
       "      <th>9123</th>\n",
       "      <td>164977</td>\n",
       "      <td>The Gay Desperado (1936)</td>\n",
       "      <td>Comedy</td>\n",
       "      <td>9124</td>\n",
       "      <td>comedy</td>\n",
       "    </tr>\n",
       "    <tr>\n",
       "      <th>9124</th>\n",
       "      <td>164979</td>\n",
       "      <td>Women of '69, Unboxed</td>\n",
       "      <td>Documentary</td>\n",
       "      <td>9125</td>\n",
       "      <td>documentary</td>\n",
       "    </tr>\n",
       "  </tbody>\n",
       "</table>\n",
       "</div>"
      ],
      "text/plain": [
       "      movieId                                              title  \\\n",
       "9120   162672                                Mohenjo Daro (2016)   \n",
       "9121   163056                               Shin Godzilla (2016)   \n",
       "9122   163949  The Beatles: Eight Days a Week - The Touring Y...   \n",
       "9123   164977                           The Gay Desperado (1936)   \n",
       "9124   164979                              Women of '69, Unboxed   \n",
       "\n",
       "                               genres  movie_id  \\\n",
       "9120          Adventure|Drama|Romance      9121   \n",
       "9121  Action|Adventure|Fantasy|Sci-Fi      9122   \n",
       "9122                      Documentary      9123   \n",
       "9123                           Comedy      9124   \n",
       "9124                      Documentary      9125   \n",
       "\n",
       "                          genres_list  \n",
       "9120          adventure drama romance  \n",
       "9121   action adventure fantasy scifi  \n",
       "9122                      documentary  \n",
       "9123                           comedy  \n",
       "9124                      documentary  "
      ]
     },
     "execution_count": 684,
     "metadata": {},
     "output_type": "execute_result"
    }
   ],
   "source": [
    "movies.tail()"
   ]
  },
  {
   "cell_type": "markdown",
   "metadata": {},
   "source": [
    "Приведем теги в единый вид - удалим все спецсимволы, даже проигнорируем слишком длинные теги"
   ]
  },
  {
   "cell_type": "code",
   "execution_count": 13,
   "metadata": {},
   "outputs": [
    {
     "name": "stdout",
     "output_type": "stream",
     "text": [
      "we will ignore this tag: play_enough_video_games_and_you_can_become_an_nsa_agent\n",
      "we will ignore this tag: interesting_concept__bad_execution\n",
      "we will ignore this tag: sufficiently_explodey_to_be_good\n",
      "we will ignore this tag: id_like_to_live_in_this_movie\n",
      "we will ignore this tag: that_fat_nerd_is_just_annoying\n",
      "we will ignore this tag: as_historicaly_correct_as_germany_winning_ww2\n",
      "we will ignore this tag: but_still_a_fun_movie\n",
      "we will ignore this tag: the_rocks_finest_work_need_i_say_more\n",
      "we will ignore this tag: try_not_to_mistake_this_for_an_episode_of_alias\n",
      "we will ignore this tag: why_the_terrorists_hate_us\n",
      "we will ignore this tag: liked_the_other_two_better\n",
      "we will ignore this tag: no_desire_to_see_this\n",
      "we will ignore this tag: i_loved_it_seen_it_five_times_already\n",
      "we will ignore this tag: based_on_a_tv_show\n",
      "we will ignore this tag: based_on_a_true_story\n",
      "we will ignore this tag: villain_nonexistent_or_not_needed_for_good_story\n",
      "we will ignore this tag: nudity_full_frontal__notable\n",
      "we will ignore this tag: easily_confused_with_other_movies_title\n"
     ]
    }
   ],
   "source": [
    "tags_v2 = tags.apply(process_tag, axis = 1)"
   ]
  },
  {
   "cell_type": "code",
   "execution_count": 274,
   "metadata": {},
   "outputs": [
    {
     "data": {
      "text/html": [
       "<div>\n",
       "<style>\n",
       "    .dataframe thead tr:only-child th {\n",
       "        text-align: right;\n",
       "    }\n",
       "\n",
       "    .dataframe thead th {\n",
       "        text-align: left;\n",
       "    }\n",
       "\n",
       "    .dataframe tbody tr th {\n",
       "        vertical-align: top;\n",
       "    }\n",
       "</style>\n",
       "<table border=\"1\" class=\"dataframe\">\n",
       "  <thead>\n",
       "    <tr style=\"text-align: right;\">\n",
       "      <th></th>\n",
       "      <th>userId</th>\n",
       "      <th>timestamp</th>\n",
       "      <th>movie_id</th>\n",
       "      <th>tags_list</th>\n",
       "    </tr>\n",
       "  </thead>\n",
       "  <tbody>\n",
       "    <tr>\n",
       "      <th>0</th>\n",
       "      <td>15</td>\n",
       "      <td>1138537770</td>\n",
       "      <td>305</td>\n",
       "      <td>sandraboringbullock</td>\n",
       "    </tr>\n",
       "    <tr>\n",
       "      <th>1</th>\n",
       "      <td>15</td>\n",
       "      <td>1193435061</td>\n",
       "      <td>1518</td>\n",
       "      <td>dentist</td>\n",
       "    </tr>\n",
       "    <tr>\n",
       "      <th>2</th>\n",
       "      <td>15</td>\n",
       "      <td>1170560997</td>\n",
       "      <td>5167</td>\n",
       "      <td>cambodia</td>\n",
       "    </tr>\n",
       "    <tr>\n",
       "      <th>3</th>\n",
       "      <td>15</td>\n",
       "      <td>1170626366</td>\n",
       "      <td>6119</td>\n",
       "      <td>russian</td>\n",
       "    </tr>\n",
       "    <tr>\n",
       "      <th>4</th>\n",
       "      <td>15</td>\n",
       "      <td>1141391765</td>\n",
       "      <td>6179</td>\n",
       "      <td>forgettable</td>\n",
       "    </tr>\n",
       "  </tbody>\n",
       "</table>\n",
       "</div>"
      ],
      "text/plain": [
       "   userId   timestamp  movie_id             tags_list\n",
       "0      15  1138537770       305   sandraboringbullock\n",
       "1      15  1193435061      1518               dentist\n",
       "2      15  1170560997      5167              cambodia\n",
       "3      15  1170626366      6119               russian\n",
       "4      15  1141391765      6179           forgettable"
      ]
     },
     "execution_count": 274,
     "metadata": {},
     "output_type": "execute_result"
    }
   ],
   "source": []
  },
  {
   "cell_type": "code",
   "execution_count": 14,
   "metadata": {
    "collapsed": true
   },
   "outputs": [],
   "source": [
    "tags_v3 = tags_v2.groupby('movie_id')['tags_list'].apply(lambda x: x.sum())\n",
    "tmp_df = []\n",
    "for i in tags_v3.index:\n",
    "    tmp_df.append([i,tags_v3[i]])\n"
   ]
  },
  {
   "cell_type": "code",
   "execution_count": 15,
   "metadata": {
    "collapsed": true
   },
   "outputs": [],
   "source": [
    "tags_v4 = pd.DataFrame(tmp_df,columns=['movie_id','tags'])"
   ]
  },
  {
   "cell_type": "code",
   "execution_count": 16,
   "metadata": {},
   "outputs": [
    {
     "data": {
      "text/plain": [
       "movie_id    689\n",
       "tags        689\n",
       "dtype: int64"
      ]
     },
     "execution_count": 16,
     "metadata": {},
     "output_type": "execute_result"
    }
   ],
   "source": [
    "tags_v4.count()"
   ]
  },
  {
   "cell_type": "code",
   "execution_count": null,
   "metadata": {
    "collapsed": true
   },
   "outputs": [],
   "source": []
  },
  {
   "cell_type": "code",
   "execution_count": 98,
   "metadata": {
    "collapsed": true
   },
   "outputs": [],
   "source": []
  },
  {
   "cell_type": "code",
   "execution_count": 17,
   "metadata": {},
   "outputs": [
    {
     "data": {
      "text/plain": [
       "CountVectorizer(analyzer='word', binary=False, decode_error='strict',\n",
       "        dtype=<class 'numpy.int64'>, encoding='utf-8', input='content',\n",
       "        lowercase=True, max_df=1.0, max_features=None, min_df=1,\n",
       "        ngram_range=(1, 1), preprocessor=None, stop_words=None,\n",
       "        strip_accents=None, token_pattern='(?u)\\\\b\\\\w\\\\w+\\\\b',\n",
       "        tokenizer=None, vocabulary=None)"
      ]
     },
     "execution_count": 17,
     "metadata": {},
     "output_type": "execute_result"
    }
   ],
   "source": [
    "cv = CountVectorizer()\n",
    "cv.fit(tags_v4[\"tags\"])"
   ]
  },
  {
   "cell_type": "code",
   "execution_count": 18,
   "metadata": {
    "collapsed": true
   },
   "outputs": [],
   "source": [
    "c = last_movie_id \n",
    "tags_dok = dok_matrix((c ,len(cv.vocabulary_)))\n",
    "tmp = 0\n",
    "for i in range(c):\n",
    "    #print(i)\n",
    "    t = tags_v4[tags_v4['movie_id'] == i]['tags']\n",
    "    if t.empty: \n",
    "        continue;\n",
    "    t=t.values[0]\n",
    "    #print(\"process_tag:{}\".format(t))\n",
    "    for j in t.split(' '):\n",
    "        j = j.strip()\n",
    "        if j.isalpha():\n",
    "            j1 = cv.vocabulary_[j]\n",
    "            if tags_dok[i,j1]:\n",
    "                tmp += 1\n",
    "            tags_dok[i,j1] = 1\n",
    "            \n",
    "            #print(\"add_tag:{}\".format(j) )\n",
    "    "
   ]
  },
  {
   "cell_type": "code",
   "execution_count": 19,
   "metadata": {},
   "outputs": [
    {
     "data": {
      "text/plain": [
       "<9125x536 sparse matrix of type '<class 'numpy.float64'>'\n",
       "\twith 979 stored elements in Dictionary Of Keys format>"
      ]
     },
     "execution_count": 19,
     "metadata": {},
     "output_type": "execute_result"
    }
   ],
   "source": [
    "tags_dok"
   ]
  },
  {
   "cell_type": "code",
   "execution_count": 20,
   "metadata": {
    "collapsed": true
   },
   "outputs": [],
   "source": [
    "from  sklearn.metrics.pairwise import pairwise_distances\n",
    "from sklearn.preprocessing import Normalizer"
   ]
  },
  {
   "cell_type": "code",
   "execution_count": 21,
   "metadata": {},
   "outputs": [
    {
     "data": {
      "text/plain": [
       "(9125, 536)"
      ]
     },
     "execution_count": 21,
     "metadata": {},
     "output_type": "execute_result"
    }
   ],
   "source": [
    "tags_dok.shape"
   ]
  },
  {
   "cell_type": "code",
   "execution_count": 22,
   "metadata": {
    "collapsed": true
   },
   "outputs": [],
   "source": [
    "tags_normalizer = Normalizer(norm='l1')\n",
    "tags_dok_n = tags_normalizer.fit_transform(tags_dok)"
   ]
  },
  {
   "cell_type": "code",
   "execution_count": 23,
   "metadata": {
    "collapsed": true
   },
   "outputs": [],
   "source": [
    "tags_distance = pairwise_distances(tags_dok_n,metric='cosine')"
   ]
  },
  {
   "cell_type": "code",
   "execution_count": 24,
   "metadata": {},
   "outputs": [
    {
     "data": {
      "text/plain": [
       "(9125, 9125)"
      ]
     },
     "execution_count": 24,
     "metadata": {},
     "output_type": "execute_result"
    }
   ],
   "source": [
    "tags_distance.shape"
   ]
  },
  {
   "cell_type": "code",
   "execution_count": 25,
   "metadata": {
    "collapsed": true
   },
   "outputs": [],
   "source": [
    "tags_distance_dok = dok_matrix(tags_distance.shape)\n",
    "\n",
    "r = 0\n",
    "for i in tags_distance:\n",
    "    for j in i.argsort()[:10]:\n",
    "        if r == j:\n",
    "            continue\n",
    "        if i[j] == 1:\n",
    "            break\n",
    "        tags_distance_dok[r,j] = i[j]\n",
    "    r+=1"
   ]
  },
  {
   "cell_type": "code",
   "execution_count": 26,
   "metadata": {
    "collapsed": true
   },
   "outputs": [],
   "source": [
    "tag_distance_csr = tags_distance_dok.tocsr()"
   ]
  },
  {
   "cell_type": "code",
   "execution_count": 27,
   "metadata": {},
   "outputs": [
    {
     "name": "stdout",
     "output_type": "stream",
     "text": [
      "9125 671\n"
     ]
    },
    {
     "data": {
      "text/html": [
       "<div>\n",
       "<style>\n",
       "    .dataframe thead tr:only-child th {\n",
       "        text-align: right;\n",
       "    }\n",
       "\n",
       "    .dataframe thead th {\n",
       "        text-align: left;\n",
       "    }\n",
       "\n",
       "    .dataframe tbody tr th {\n",
       "        vertical-align: top;\n",
       "    }\n",
       "</style>\n",
       "<table border=\"1\" class=\"dataframe\">\n",
       "  <thead>\n",
       "    <tr style=\"text-align: right;\">\n",
       "      <th></th>\n",
       "      <th>userId</th>\n",
       "      <th>rating</th>\n",
       "      <th>timestamp</th>\n",
       "      <th>movie_id</th>\n",
       "    </tr>\n",
       "  </thead>\n",
       "  <tbody>\n",
       "    <tr>\n",
       "      <th>0</th>\n",
       "      <td>1.0</td>\n",
       "      <td>2.5</td>\n",
       "      <td>1.260759e+09</td>\n",
       "      <td>31</td>\n",
       "    </tr>\n",
       "    <tr>\n",
       "      <th>1</th>\n",
       "      <td>1.0</td>\n",
       "      <td>3.0</td>\n",
       "      <td>1.260759e+09</td>\n",
       "      <td>834</td>\n",
       "    </tr>\n",
       "    <tr>\n",
       "      <th>2</th>\n",
       "      <td>1.0</td>\n",
       "      <td>3.0</td>\n",
       "      <td>1.260759e+09</td>\n",
       "      <td>860</td>\n",
       "    </tr>\n",
       "    <tr>\n",
       "      <th>3</th>\n",
       "      <td>1.0</td>\n",
       "      <td>2.0</td>\n",
       "      <td>1.260759e+09</td>\n",
       "      <td>907</td>\n",
       "    </tr>\n",
       "    <tr>\n",
       "      <th>4</th>\n",
       "      <td>1.0</td>\n",
       "      <td>4.0</td>\n",
       "      <td>1.260759e+09</td>\n",
       "      <td>932</td>\n",
       "    </tr>\n",
       "  </tbody>\n",
       "</table>\n",
       "</div>"
      ],
      "text/plain": [
       "   userId  rating     timestamp  movie_id\n",
       "0     1.0     2.5  1.260759e+09        31\n",
       "1     1.0     3.0  1.260759e+09       834\n",
       "2     1.0     3.0  1.260759e+09       860\n",
       "3     1.0     2.0  1.260759e+09       907\n",
       "4     1.0     4.0  1.260759e+09       932"
      ]
     },
     "execution_count": 27,
     "metadata": {},
     "output_type": "execute_result"
    }
   ],
   "source": [
    "print(last_movie_id, last_user_id)\n",
    "ratings.head()"
   ]
  },
  {
   "cell_type": "markdown",
   "metadata": {},
   "source": [
    "### Разреженная матрица user/item"
   ]
  },
  {
   "cell_type": "code",
   "execution_count": 28,
   "metadata": {
    "collapsed": true
   },
   "outputs": [],
   "source": [
    "ratings_csr = csr_matrix(\n",
    "    (\n",
    "        (((ratings[\"rating\"] - mean_rating) > 0).astype(int) ).tolist(),\n",
    "            (\n",
    "                ratings.userId.tolist(),\n",
    "                ratings.movie_id.tolist()\n",
    "            )\n",
    "    ),\n",
    "    shape=(last_user_id +1 , last_movie_id)\n",
    ")"
   ]
  },
  {
   "cell_type": "code",
   "execution_count": 29,
   "metadata": {},
   "outputs": [
    {
     "data": {
      "text/plain": [
       "1"
      ]
     },
     "execution_count": 29,
     "metadata": {},
     "output_type": "execute_result"
    }
   ],
   "source": [
    "ratings_csr[1,932]"
   ]
  },
  {
   "cell_type": "code",
   "execution_count": 31,
   "metadata": {
    "collapsed": true
   },
   "outputs": [],
   "source": [
    "rating_normalizer = Normalizer()\n",
    "ratings_csr_n = rating_normalizer.fit_transform(ratings_csr)"
   ]
  },
  {
   "cell_type": "markdown",
   "metadata": {},
   "source": [
    "Пока просто выведем данные по пользователю. Метрики попробуем посчитать позже."
   ]
  },
  {
   "cell_type": "code",
   "execution_count": 32,
   "metadata": {
    "scrolled": true
   },
   "outputs": [
    {
     "name": "stdout",
     "output_type": "stream",
     "text": [
      "Просмотренные фильмы\n",
      "['Aladdin (1992)', 'American Beauty (1999)', 'Batman (1989)', 'Beauty and the Beast (1991)', 'Big Daddy (1999)', 'Bound (1996)', 'Bowling for Columbine (2002)', 'Braveheart (1995)', 'Daria: Is It Fall Yet? (2000)', 'Dark Knight, The (2008)', 'Encino Man (1992)', 'Eternal Sunshine of the Spotless Mind (2004)', 'Fahrenheit 9/11 (2004)', 'Fear and Loathing in Las Vegas (1998)', 'Fight Club (1999)', 'Finding Nemo (2003)', 'Flags of Our Fathers (2006)', 'Flintstones, The (1994)', 'Forrest Gump (1994)', 'Frequency (2000)', 'Fried Green Tomatoes (1991)', 'Ghostbusters (a.k.a. Ghost Busters) (1984)', 'Happiness (1998)', 'Harold and Maude (1971)', 'Heavenly Creatures (1994)', 'Indian in the Cupboard, The (1995)', 'Letters from Iwo Jima (2006)', 'Lord of the Rings: The Return of the King, The (2003)', 'Major Payne (1995)', 'Men in Black (a.k.a. MIB) (1997)', 'Pet Sematary (1989)', 'Princess Bride, The (1987)', 'Pulp Fiction (1994)', 'Requiem for a Dream (2000)', 'Saving Private Ryan (1998)', \"Schindler's List (1993)\", 'Shawshank Redemption, The (1994)', 'Silence of the Lambs, The (1991)', 'Sixth Sense, The (1999)', 'Speed (1994)', 'Spider-Man (2002)', 'Spider-Man 2 (2004)', 'Star Wars: Episode VI - Return of the Jedi (1983)', 'Stir of Echoes (1999)', 'Summer of Sam (1999)', 'Titanic (1997)', 'Trainspotting (1996)', 'Twister (1996)', 'V for Vendetta (2006)', 'White Stripes Under Great White Northern Lights, The (2009)', 'Young Guns (1988)']\n",
      "Рекомендованные фильмы\n",
      "['Big Lebowski, The (1998)', 'Fight Club (1999)', 'Fish Called Wanda, A (1988)', 'Inglourious Basterds (2009)', 'It Follows (2014)', 'Jackie Brown (1997)', 'Lock, Stock & Two Smoking Barrels (1998)', 'Old Boy (2003)', 'Sleepers (1996)', 'Trainspotting (1996)']\n"
     ]
    }
   ],
   "source": [
    "userId = 3\n",
    "some_user = ratings_csr_n[userId]\n",
    "some_user_pred = some_user.dot(tag_distance_csr)\n",
    "films = some_user_pred.data.argsort()[-10:]\n",
    "print(\"Просмотренные фильмы\")\n",
    "watched = []\n",
    "for i in ratings[ratings['userId'] == userId]['movie_id']:\n",
    "    watched.append(movies[movies['movie_id']  == i]['title'].values[0])\n",
    "watched.sort()\n",
    "print(watched)\n",
    "print(\"Рекомендованные фильмы\")\n",
    "recomended = []\n",
    "for i in films:\n",
    "    movie_id = some_user_pred.indices[i]\n",
    "    recomended.append(movies[movies['movie_id']  == movie_id]['title'].values[0])\n",
    "recomended.sort()\n",
    "print(recomended)"
   ]
  },
  {
   "cell_type": "code",
   "execution_count": 33,
   "metadata": {
    "collapsed": true
   },
   "outputs": [],
   "source": [
    "ratings_csr = csr_matrix(\n",
    "    (\n",
    "        (((ratings[\"rating\"] - mean_rating) > 0).astype(int) ).tolist(),\n",
    "        #ratings[\"rating\"].tolist(),\n",
    "            (\n",
    "                ratings.userId.tolist(),\n",
    "                ratings.movie_id.tolist()\n",
    "            )\n",
    "    ),\n",
    "    shape=(last_user_id + 1, last_movie_id)\n",
    ")"
   ]
  },
  {
   "cell_type": "code",
   "execution_count": 34,
   "metadata": {
    "scrolled": false
   },
   "outputs": [
    {
     "name": "stdout",
     "output_type": "stream",
     "text": [
      "total: 100004, train: 25739, test: 25829\n"
     ]
    }
   ],
   "source": [
    "# Разобъем на обучающую и тестовые выборки\n",
    "# В матрице у нас только единицы и нули.\n",
    "test_indices = np.random.choice(\n",
    "    range(ratings_csr.nnz),\n",
    "    replace=False,\n",
    "    size=int(ratings_csr.nnz * 0.5)\n",
    ").tolist()\n",
    "\n",
    "train_csr = ratings_csr.copy()\n",
    "train_csr.data[test_indices] = 0\n",
    "\n",
    "\n",
    "test_csr = ratings_csr.copy()\n",
    "test_csr.data[:] = 0\n",
    "test_csr.data[test_indices] = ratings_csr.data[test_indices]\n",
    "test_csr.eliminate_zeros()\n",
    "train_csr.eliminate_zeros()\n",
    "train_csr_n = rating_normalizer.fit_transform(train_csr)\n",
    "print(\"total: {}, train: {}, test: {}\".format(ratings_csr.nnz, train_csr.nnz, test_csr.nnz))\n"
   ]
  },
  {
   "cell_type": "markdown",
   "metadata": {},
   "source": [
    "# Подсчет метрик для мтатрицы схожести\n",
    "### precision @ K"
   ]
  },
  {
   "cell_type": "code",
   "execution_count": 39,
   "metadata": {},
   "outputs": [
    {
     "data": {
      "text/plain": [
       "0.066766020864381589"
      ]
     },
     "execution_count": 39,
     "metadata": {},
     "output_type": "execute_result"
    }
   ],
   "source": [
    "metric_acc = 0\n",
    "K = 5\n",
    "for i in range(last_user_id):\n",
    "    userId = i + 1\n",
    "    some_user = train_csr_n[userId]\n",
    "    some_user_pred = some_user.dot(tag_distance_csr)\n",
    "    pred_v = np.array(some_user_pred.todense().tolist()[0])\n",
    "    true_v = test_csr[userId]\n",
    "    metric_acc += my_precision(true_v, pred_v, K)\n",
    "metric_acc / last_user_id"
   ]
  },
  {
   "cell_type": "markdown",
   "metadata": {},
   "source": [
    "###  average precision @ K"
   ]
  },
  {
   "cell_type": "code",
   "execution_count": 40,
   "metadata": {
    "scrolled": true
   },
   "outputs": [
    {
     "data": {
      "text/plain": [
       "0.035325384997516134"
      ]
     },
     "execution_count": 40,
     "metadata": {},
     "output_type": "execute_result"
    }
   ],
   "source": [
    "metric_acc = 0\n",
    "K = 5\n",
    "for i in range(last_user_id):\n",
    "    userId = i + 1\n",
    "    some_user = train_csr_n[userId]\n",
    "    some_user_pred = some_user.dot(tag_distance_csr)\n",
    "    pred_v = np.array(some_user_pred.todense().tolist()[0])\n",
    "    true_v = test_csr[userId]\n",
    "    metric_acc += avg_precision(true_v, pred_v, K)\n",
    "metric_acc / last_user_id\n"
   ]
  },
  {
   "cell_type": "markdown",
   "metadata": {},
   "source": [
    "### mean reciprocal rank"
   ]
  },
  {
   "cell_type": "code",
   "execution_count": 1182,
   "metadata": {},
   "outputs": [
    {
     "data": {
      "text/plain": [
       "0.1782670739342147"
      ]
     },
     "execution_count": 1182,
     "metadata": {},
     "output_type": "execute_result"
    }
   ],
   "source": [
    "metric_acc = 0\n",
    "for i in range(last_user_id):\n",
    "    userId = i + 1\n",
    "    some_user = train_csr_n[userId]\n",
    "    some_user_pred = some_user.dot(tag_distance_csr)\n",
    "    pred_v = np.array(some_user_pred.todense().tolist()[0])\n",
    "    true_v = test_csr[userId]\n",
    "    metric_acc += my_reciprocal_rank(true_v, pred_v)\n",
    "metric_acc / last_user_id"
   ]
  },
  {
   "cell_type": "code",
   "execution_count": 41,
   "metadata": {},
   "outputs": [
    {
     "data": {
      "text/plain": [
       "9"
      ]
     },
     "execution_count": 41,
     "metadata": {},
     "output_type": "execute_result"
    }
   ],
   "source": [
    "t1 = np.array([0,0,1,0,1,1,0,0,0,1,0,1,0,0,0,0])\n",
    "t2 = np.array([1,0,0,0,0,1,0,1,0,0,0,0,0,0,0,1])\n",
    "skm.accuracy_score(t1,t2,normalize=False)"
   ]
  },
  {
   "cell_type": "markdown",
   "metadata": {},
   "source": [
    "# LightFM"
   ]
  },
  {
   "cell_type": "markdown",
   "metadata": {},
   "source": [
    "#### обучаем абы какую модель (по матрице user/rating) и считаем метрики MRR и Precision."
   ]
  },
  {
   "cell_type": "code",
   "execution_count": 61,
   "metadata": {},
   "outputs": [
    {
     "name": "stdout",
     "output_type": "stream",
     "text": [
      "MRR: train 0.33, test 0.30.\n",
      "Precision@5: train 0.14, test 0.12.\n",
      "Precision@10: train 0.15, test 0.14.\n",
      "Precision@15: train 0.13, test 0.12.\n",
      "Precision@20: train 0.11, test 0.10.\n"
     ]
    }
   ],
   "source": [
    "# обучаем абы какую модель и считаем метрики MRR и Precision.\n",
    "model = LightFM(loss=\"bpr\")\n",
    "model.fit(\n",
    "    train_csr,\n",
    "    num_threads=4,\n",
    "    epochs=3,\n",
    ")\n",
    "print_model_metrics(model)"
   ]
  },
  {
   "cell_type": "markdown",
   "metadata": {},
   "source": [
    "### average_precision @ K"
   ]
  },
  {
   "cell_type": "code",
   "execution_count": 43,
   "metadata": {},
   "outputs": [
    {
     "data": {
      "text/plain": [
       "0.0608097367113761"
      ]
     },
     "execution_count": 43,
     "metadata": {},
     "output_type": "execute_result"
    }
   ],
   "source": [
    "metric_acc = 0\n",
    "K = 5\n",
    "for i in range(last_user_id):\n",
    "    userId = i + 1\n",
    "    predict = model.predict(userId, np.array(range(last_movie_id)))\n",
    "    true_v = test_csr[userId]\n",
    "    metric_acc += avg_precision(true_v, predict, 5)\n",
    "metric_acc / last_user_id\n"
   ]
  },
  {
   "cell_type": "code",
   "execution_count": 44,
   "metadata": {},
   "outputs": [
    {
     "name": "stdout",
     "output_type": "stream",
     "text": [
      "film: Shawshank Redemption, The (1994), relevance: -0.13176481425762177\n",
      "film: Saving Private Ryan (1998), relevance: -0.1515277922153473\n",
      "film: Primal Fear (1996), relevance: -0.16477413475513458\n",
      "film: Princess Bride, The (1987), relevance: -0.17312480509281158\n",
      "film: Schindler's List (1993), relevance: -0.17603392899036407\n",
      "film: Star Wars: Episode IV - A New Hope (1977), relevance: -0.18300053477287292\n",
      "film: Back to the Future (1985), relevance: -0.19120073318481445\n",
      "film: Vertigo (1958), relevance: -0.19201380014419556\n",
      "film: Star Wars: Episode V - The Empire Strikes Back (1980), relevance: -0.19710855185985565\n",
      "film: Forrest Gump (1994), relevance: -0.1994471251964569\n"
     ]
    }
   ],
   "source": [
    "userId = 3\n",
    "predict = model.predict(userId, np.array(range(last_movie_id)))\n",
    "\n",
    "for i in predict.argsort()[::-1][:10]:\n",
    "    name = movies[movies['movie_id'] == i]['title'].values[0]\n",
    "    print(\"film: {}, relevance: {}\".format(name, predict[i]))"
   ]
  },
  {
   "cell_type": "code",
   "execution_count": 1073,
   "metadata": {
    "collapsed": true
   },
   "outputs": [],
   "source": []
  },
  {
   "cell_type": "code",
   "execution_count": 1032,
   "metadata": {
    "collapsed": true
   },
   "outputs": [],
   "source": []
  },
  {
   "cell_type": "markdown",
   "metadata": {
    "collapsed": true
   },
   "source": []
  },
  {
   "cell_type": "code",
   "execution_count": 1074,
   "metadata": {
    "collapsed": true
   },
   "outputs": [],
   "source": [
    "# Это ячейки, чтобы понять как работают функции метрик.\n",
    "shape = 3\n",
    "t1 = csr_matrix(\n",
    "    ( [1,1,1],\n",
    "        ( \n",
    "            [0,0,0],\n",
    "            [0,1,2],\n",
    "        )\n",
    "    ),\n",
    "    shape = (1, 10),\n",
    "    dtype = np.int64,\n",
    ")\n",
    "                    # 0  1  2   3  4   5  6   7  8  9\n",
    "predict = np.array([  0, 0.1, 0.2,0,0.6, 0.7,0.7, 0, 0, 0])\n"
   ]
  },
  {
   "cell_type": "code",
   "execution_count": 1078,
   "metadata": {},
   "outputs": [
    {
     "data": {
      "text/plain": [
       "0.4"
      ]
     },
     "execution_count": 1078,
     "metadata": {},
     "output_type": "execute_result"
    }
   ],
   "source": [
    "my_precision(t1, predict, 5)"
   ]
  },
  {
   "cell_type": "code",
   "execution_count": 1066,
   "metadata": {},
   "outputs": [
    {
     "data": {
      "text/plain": [
       "0.0625"
      ]
     },
     "execution_count": 1066,
     "metadata": {},
     "output_type": "execute_result"
    }
   ],
   "source": [
    "avg_precision(t1,predict,4)"
   ]
  },
  {
   "cell_type": "code",
   "execution_count": 1067,
   "metadata": {
    "scrolled": true
   },
   "outputs": [
    {
     "data": {
      "text/plain": [
       "0.25"
      ]
     },
     "execution_count": 1067,
     "metadata": {},
     "output_type": "execute_result"
    }
   ],
   "source": [
    "reciprocal_rank(t1, predict)"
   ]
  },
  {
   "cell_type": "markdown",
   "metadata": {},
   "source": [
    "### Добавим к матрице рейтинга еще информацию о тэгах и жанрах, то есть создадим матрицу item-features"
   ]
  },
  {
   "cell_type": "code",
   "execution_count": 46,
   "metadata": {
    "collapsed": true
   },
   "outputs": [],
   "source": [
    "tags_csr = tags_dok.tocsr()"
   ]
  },
  {
   "cell_type": "code",
   "execution_count": 47,
   "metadata": {},
   "outputs": [
    {
     "name": "stdout",
     "output_type": "stream",
     "text": [
      "Размерности матрицы: (9125, 9661)\n",
      "Ненулевых элементов в матрице: 10104\n",
      "Доля ненулевых элементов: 0.00011461418809987339\n",
      "Среднее значение ненулевых элементов: 1.0\n",
      "Максимальное значение ненулевых элементов: 1.0\n",
      "Минимальное значение ненулевых элементов: 1.0\n"
     ]
    }
   ],
   "source": [
    "# добавляем к movie_id ещё и информацию о тэгах\n",
    "from scipy.sparse import hstack, identity\n",
    "\n",
    "features = hstack([\n",
    "    identity(tags_csr.shape[0]),\n",
    "    tags_csr\n",
    "])\n",
    "sparse_info(features)"
   ]
  },
  {
   "cell_type": "code",
   "execution_count": 48,
   "metadata": {
    "scrolled": true
   },
   "outputs": [
    {
     "name": "stdout",
     "output_type": "stream",
     "text": [
      "MRR: train 0.42, test 0.24.\n",
      "Precision@5: train 0.18, test 0.10.\n",
      "Precision@10: train 0.14, test 0.09.\n",
      "Precision@15: train 0.12, test 0.08.\n",
      "Precision@20: train 0.10, test 0.07.\n"
     ]
    }
   ],
   "source": [
    "# Модель с item-features в виде тегов\n",
    "model = LightFM(loss=\"bpr\")\n",
    "model.fit(\n",
    "    train_csr,\n",
    "    num_threads=4,\n",
    "    item_features = features,\n",
    "    epochs=3,\n",
    "    \n",
    ")\n",
    "\n",
    "train_mrr = reciprocal_rank(model, train_csr, item_features=features).mean()\n",
    "test_mrr = reciprocal_rank(model, test_csr, item_features=features).mean()\n",
    "print('MRR: train %.2f, test %.2f.' % (train_mrr, test_mrr))\n",
    "for k in [5, 10, 15, 20]:\n",
    "    train_precision = precision_at_k(model, train_csr, item_features=features, k=k).mean()\n",
    "    test_precision = precision_at_k(model, test_csr, item_features=features, k=k).mean()\n",
    "    print('Precision@%d: train %.2f, test %.2f.' % (k, train_precision, test_precision))"
   ]
  },
  {
   "cell_type": "code",
   "execution_count": 49,
   "metadata": {
    "scrolled": true
   },
   "outputs": [
    {
     "data": {
      "text/plain": [
       "' adventure animation children comedy fantasy'"
      ]
     },
     "execution_count": 49,
     "metadata": {},
     "output_type": "execute_result"
    }
   ],
   "source": [
    "process_genres(movies.iloc[0]['genres'])"
   ]
  },
  {
   "cell_type": "code",
   "execution_count": 50,
   "metadata": {
    "collapsed": true
   },
   "outputs": [],
   "source": [
    "movies['genres_list'] = movies.genres.apply(process_genres)"
   ]
  },
  {
   "cell_type": "code",
   "execution_count": 51,
   "metadata": {
    "collapsed": true
   },
   "outputs": [],
   "source": [
    "movies.sort_values('movie_id',inplace=True)"
   ]
  },
  {
   "cell_type": "code",
   "execution_count": 52,
   "metadata": {},
   "outputs": [
    {
     "data": {
      "text/plain": [
       "CountVectorizer(analyzer='word', binary=False, decode_error='strict',\n",
       "        dtype=<class 'numpy.int64'>, encoding='utf-8', input='content',\n",
       "        lowercase=True, max_df=1.0, max_features=None, min_df=1,\n",
       "        ngram_range=(1, 1), preprocessor=None, stop_words=None,\n",
       "        strip_accents=None, token_pattern='(?u)\\\\b\\\\w\\\\w+\\\\b',\n",
       "        tokenizer=None, vocabulary=None)"
      ]
     },
     "execution_count": 52,
     "metadata": {},
     "output_type": "execute_result"
    }
   ],
   "source": [
    "cv_genres = CountVectorizer()\n",
    "cv_genres.fit(movies['genres_list'])"
   ]
  },
  {
   "cell_type": "code",
   "execution_count": 53,
   "metadata": {
    "collapsed": true
   },
   "outputs": [
    {
     "data": {
      "text/plain": [
       "{'action': 0,\n",
       " 'adventure': 1,\n",
       " 'animation': 2,\n",
       " 'children': 3,\n",
       " 'comedy': 4,\n",
       " 'crime': 5,\n",
       " 'documentary': 6,\n",
       " 'drama': 7,\n",
       " 'fantasy': 8,\n",
       " 'filmnoir': 9,\n",
       " 'horror': 10,\n",
       " 'imax': 11,\n",
       " 'musical': 12,\n",
       " 'mystery': 13,\n",
       " 'none': 14,\n",
       " 'romance': 15,\n",
       " 'scifi': 16,\n",
       " 'thriller': 17,\n",
       " 'war': 18,\n",
       " 'western': 19}"
      ]
     },
     "execution_count": 53,
     "metadata": {},
     "output_type": "execute_result"
    }
   ],
   "source": [
    "cv_genres.vocabulary_"
   ]
  },
  {
   "cell_type": "code",
   "execution_count": 54,
   "metadata": {
    "collapsed": true
   },
   "outputs": [],
   "source": [
    "genres_features = cv_genres.transform(movies['genres_list'])"
   ]
  },
  {
   "cell_type": "code",
   "execution_count": 55,
   "metadata": {},
   "outputs": [
    {
     "data": {
      "text/plain": [
       "(9125, 20)"
      ]
     },
     "execution_count": 55,
     "metadata": {},
     "output_type": "execute_result"
    }
   ],
   "source": [
    "genres_features.shape"
   ]
  },
  {
   "cell_type": "code",
   "execution_count": 56,
   "metadata": {},
   "outputs": [
    {
     "name": "stdout",
     "output_type": "stream",
     "text": [
      "Размерности матрицы: (9125, 9681)\n",
      "Ненулевых элементов в матрице: 30444\n",
      "Доля ненулевых элементов: 0.0003446264608122392\n",
      "Среднее значение ненулевых элементов: 1.0\n",
      "Максимальное значение ненулевых элементов: 1.0\n",
      "Минимальное значение ненулевых элементов: 1.0\n"
     ]
    }
   ],
   "source": [
    "tags_genres_features = hstack([\n",
    "    identity(tags_csr.shape[0]),\n",
    "    tags_csr,\n",
    "    genres_features,\n",
    "])\n",
    "sparse_info(tags_genres_features)"
   ]
  },
  {
   "cell_type": "markdown",
   "metadata": {},
   "source": [
    "### Обучаем модель с item_features  с жанрами и тэгами и считаем метрики MRR и precision@K"
   ]
  },
  {
   "cell_type": "code",
   "execution_count": 57,
   "metadata": {
    "scrolled": false
   },
   "outputs": [
    {
     "name": "stdout",
     "output_type": "stream",
     "text": [
      "MRR: train 0.36, test 0.18.\n",
      "Precision@5: train 0.16, test 0.07.\n",
      "Precision@10: train 0.12, test 0.06.\n",
      "Precision@15: train 0.10, test 0.06.\n",
      "Precision@20: train 0.09, test 0.06.\n"
     ]
    }
   ],
   "source": [
    "# Модель с item-features в виде тегов и жанров\n",
    "model = LightFM(loss=\"bpr\")\n",
    "model.fit(\n",
    "    train_csr,\n",
    "    num_threads=4,\n",
    "    item_features = tags_genres_features,\n",
    "    epochs=3,\n",
    "    \n",
    ")\n",
    "\n",
    "train_mrr = reciprocal_rank(model, train_csr, item_features=tags_genres_features).mean()\n",
    "test_mrr = reciprocal_rank(model, test_csr, item_features=tags_genres_features).mean()\n",
    "print('MRR: train %.2f, test %.2f.' % (train_mrr, test_mrr))\n",
    "for k in [5, 10, 15, 20]:\n",
    "    train_precision = precision_at_k(model, train_csr, item_features=tags_genres_features, k=k).mean()\n",
    "    test_precision = precision_at_k(model, test_csr, item_features=tags_genres_features, k=k).mean()\n",
    "    print('Precision@%d: train %.2f, test %.2f.' % (k, train_precision, test_precision))"
   ]
  },
  {
   "cell_type": "markdown",
   "metadata": {},
   "source": [
    "### average_precision @ K для этой модели."
   ]
  },
  {
   "cell_type": "code",
   "execution_count": 62,
   "metadata": {
    "scrolled": true
   },
   "outputs": [
    {
     "data": {
      "text/plain": [
       "0.062493790362642909"
      ]
     },
     "execution_count": 62,
     "metadata": {},
     "output_type": "execute_result"
    }
   ],
   "source": [
    "metric_acc = 0\n",
    "K = 5\n",
    "for i in range(last_user_id):\n",
    "    userId = i + 1\n",
    "    predict = model.predict(userId, np.array(range(last_movie_id)))\n",
    "    true_v = test_csr[userId]\n",
    "    metric_acc += avg_precision(true_v, predict, 5)\n",
    "metric_acc / last_user_id"
   ]
  },
  {
   "cell_type": "code",
   "execution_count": 59,
   "metadata": {},
   "outputs": [
    {
     "name": "stdout",
     "output_type": "stream",
     "text": [
      "film: Tao of Steve, The (2000), relevance: -0.9375085830688477\n",
      "film: Ordinary People (1980), relevance: -0.9368550181388855\n",
      "film: Yi Yi (2000), relevance: -0.9364736676216125\n",
      "film: Alfie (1966), relevance: -0.9362559914588928\n",
      "film: Ferris Bueller's Day Off (1986), relevance: -0.9348129034042358\n",
      "film: Officer and a Gentleman, An (1982), relevance: -0.9268986582756042\n",
      "film: Godfather: Part II, The (1974), relevance: -0.926272988319397\n",
      "film: Serendipity (2001), relevance: -0.9247363805770874\n",
      "film: Charlotte's Web (1973), relevance: -0.9205976724624634\n",
      "film: Jurassic Park (1993), relevance: -0.9165525436401367\n",
      "film: Silence of the Lambs, The (1991), relevance: -0.9098740816116333\n",
      "film: Breakfast at Tiffany's (1961), relevance: -0.9095214605331421\n",
      "film: Plan 9 from Outer Space (1959), relevance: -0.9051386117935181\n",
      "film: Yes Man (2008), relevance: -0.8961453437805176\n",
      "film: Harry Potter and the Half-Blood Prince (2009), relevance: -0.8785167932510376\n",
      "film: 101 Dalmatians (One Hundred and One Dalmatians) (1961), relevance: -0.8696552515029907\n",
      "film: Secret Life of Walter Mitty, The (2013), relevance: -0.8689969182014465\n",
      "film: Moulin Rouge (2001), relevance: -0.864500880241394\n",
      "film: Mother (1996), relevance: -0.8397663235664368\n",
      "film: Wizard of Oz, The (1939), relevance: -0.7978096604347229\n"
     ]
    }
   ],
   "source": [
    "predict = model.predict(34, np.array(range(last_movie_id)), item_features = tags_genres_features)\n",
    "for i in predict.argsort()[-20:]:\n",
    "    name = movies[movies['movie_id'] == i]['title'].values[0]\n",
    "    print(\"film: {}, relevance: {}\".format(name, predict[i]))"
   ]
  },
  {
   "cell_type": "code",
   "execution_count": 60,
   "metadata": {},
   "outputs": [
    {
     "data": {
      "text/plain": [
       "array([[ 0.02373469,  0.02073715, -0.01667041, ..., -0.02347013,\n",
       "         0.04622517,  0.02251412],\n",
       "       [-0.02095872, -0.00906101,  0.04877445, ..., -0.05747183,\n",
       "         0.01004019, -0.04563716],\n",
       "       [ 0.04239121, -0.03817241,  0.0043005 , ...,  0.00174118,\n",
       "         0.00639419, -0.00974438],\n",
       "       ..., \n",
       "       [-0.21445313, -0.17628707, -0.07526977, ...,  0.10070086,\n",
       "        -0.02652157,  0.12334744],\n",
       "       [ 0.09842253, -0.1327576 ,  0.11727214, ..., -0.10628758,\n",
       "        -0.14506479, -0.11721469],\n",
       "       [ 0.07711166,  0.1735464 , -0.02708281, ..., -0.09037625,\n",
       "         0.03423744, -0.08460046]], dtype=float32)"
      ]
     },
     "execution_count": 60,
     "metadata": {},
     "output_type": "execute_result"
    }
   ],
   "source": [
    "model.item_embeddings"
   ]
  },
  {
   "cell_type": "code",
   "execution_count": 602,
   "metadata": {},
   "outputs": [
    {
     "data": {
      "text/html": [
       "<div>\n",
       "<style>\n",
       "    .dataframe thead tr:only-child th {\n",
       "        text-align: right;\n",
       "    }\n",
       "\n",
       "    .dataframe thead th {\n",
       "        text-align: left;\n",
       "    }\n",
       "\n",
       "    .dataframe tbody tr th {\n",
       "        vertical-align: top;\n",
       "    }\n",
       "</style>\n",
       "<table border=\"1\" class=\"dataframe\">\n",
       "  <thead>\n",
       "    <tr style=\"text-align: right;\">\n",
       "      <th></th>\n",
       "      <th>userId</th>\n",
       "      <th>rating</th>\n",
       "      <th>timestamp</th>\n",
       "      <th>movie_id</th>\n",
       "    </tr>\n",
       "  </thead>\n",
       "  <tbody>\n",
       "    <tr>\n",
       "      <th>0</th>\n",
       "      <td>1.0</td>\n",
       "      <td>2.5</td>\n",
       "      <td>1.260759e+09</td>\n",
       "      <td>31</td>\n",
       "    </tr>\n",
       "    <tr>\n",
       "      <th>1</th>\n",
       "      <td>1.0</td>\n",
       "      <td>3.0</td>\n",
       "      <td>1.260759e+09</td>\n",
       "      <td>834</td>\n",
       "    </tr>\n",
       "    <tr>\n",
       "      <th>2</th>\n",
       "      <td>1.0</td>\n",
       "      <td>3.0</td>\n",
       "      <td>1.260759e+09</td>\n",
       "      <td>860</td>\n",
       "    </tr>\n",
       "    <tr>\n",
       "      <th>3</th>\n",
       "      <td>1.0</td>\n",
       "      <td>2.0</td>\n",
       "      <td>1.260759e+09</td>\n",
       "      <td>907</td>\n",
       "    </tr>\n",
       "    <tr>\n",
       "      <th>4</th>\n",
       "      <td>1.0</td>\n",
       "      <td>4.0</td>\n",
       "      <td>1.260759e+09</td>\n",
       "      <td>932</td>\n",
       "    </tr>\n",
       "  </tbody>\n",
       "</table>\n",
       "</div>"
      ],
      "text/plain": [
       "   userId  rating     timestamp  movie_id\n",
       "0     1.0     2.5  1.260759e+09        31\n",
       "1     1.0     3.0  1.260759e+09       834\n",
       "2     1.0     3.0  1.260759e+09       860\n",
       "3     1.0     2.0  1.260759e+09       907\n",
       "4     1.0     4.0  1.260759e+09       932"
      ]
     },
     "execution_count": 602,
     "metadata": {},
     "output_type": "execute_result"
    }
   ],
   "source": [
    "ratings.head()"
   ]
  },
  {
   "cell_type": "markdown",
   "metadata": {},
   "source": [
    "# Library - все функции описаны здесь"
   ]
  },
  {
   "cell_type": "code",
   "execution_count": 4,
   "metadata": {
    "collapsed": true
   },
   "outputs": [],
   "source": [
    "def print_model_metrics(model):\n",
    "    train_mrr = reciprocal_rank(model, train_csr).mean()\n",
    "    test_mrr = reciprocal_rank(model, test_csr).mean()\n",
    "    print('MRR: train %.2f, test %.2f.' % (train_mrr, test_mrr))\n",
    "    for k in [5, 10, 15, 20]:\n",
    "        train_precision = precision_at_k(model, train_csr, k=k).mean()\n",
    "        test_precision = precision_at_k(model, test_csr, k=k).mean()\n",
    "        print('Precision@%d: train %.2f, test %.2f.' % (k, train_precision, test_precision))"
   ]
  },
  {
   "cell_type": "code",
   "execution_count": 5,
   "metadata": {
    "collapsed": true
   },
   "outputs": [],
   "source": [
    "def read_csv(filename: str):\n",
    "    data = pd.read_csv(path.join(data_dir, filename + \".csv\"))\n",
    "    return data\n",
    "\n",
    "\n",
    "\n",
    "def sparse_info(sparse_matrix: csr_matrix):\n",
    "    print(\"Размерности матрицы: {}\".format(sparse_matrix.shape))\n",
    "    print(\"Ненулевых элементов в матрице: {}\".format(sparse_matrix.nnz))\n",
    "    print(\"Доля ненулевых элементов: {}\"\n",
    "          .format(sparse_matrix.nnz / sparse_matrix.shape[0] / sparse_matrix.shape[1])\n",
    "    )\n",
    "    print(\"Среднее значение ненулевых элементов: {}\".format(sparse_matrix.data.mean()))\n",
    "    print(\"Максимальное значение ненулевых элементов: {}\".format(sparse_matrix.data.max()))\n",
    "    print(\"Минимальное значение ненулевых элементов: {}\".format(sparse_matrix.data.min()))\n"
   ]
  },
  {
   "cell_type": "code",
   "execution_count": 6,
   "metadata": {
    "collapsed": true
   },
   "outputs": [],
   "source": [
    "def process_movie_id(s):\n",
    "    old_id = s['movieId']\n",
    "    new_id =  movies[movies['movieId'] == old_id]['movie_id'].values[0]\n",
    "    new_s = s.copy()\n",
    "    del new_s['movieId']\n",
    "    new_s['movie_id'] = new_id\n",
    "    return new_s"
   ]
  },
  {
   "cell_type": "code",
   "execution_count": 7,
   "metadata": {
    "collapsed": true
   },
   "outputs": [],
   "source": [
    "def process_tag(tag_line):\n",
    "    \"\"\"\n",
    "    Обработка тэгов. Правила:\n",
    "    - Приводим все в нижний регистр\n",
    "    - Тэги, перечисленные через запятую считаем разными тегами\n",
    "    - Многословные тэги считаем одинм тегом, но отбрасываем те, что длинее 4 слов,\n",
    "        так как мы работаем с тэгами, а не с описаниями. \n",
    "        Для контроля - выведем то, что отбрасываем в лог.\n",
    "    - Все спец-символы - удаляем. \n",
    "\n",
    "    TODO: можно выделять то, что в скобках как отдельные тэги, \n",
    "         отфильтровывая всякий мусор вида 'movie(s)'\n",
    "    TODO: в тегах есть строки вида r:violence, типа ограничения, какое-то \"расширение\" тэгов. \n",
    "       Пока их мало, обработаем по общим правилам.\n",
    "    \"\"\"\n",
    "    tag = tag_line['tag']\n",
    "    new_tag_line = tag_line.copy()\n",
    "    list_of_tags = \"\"\n",
    "    for s in tag.split(','):\n",
    "        s = s.strip()\n",
    "        s = s.lower()   \n",
    "        s = re.sub('\\s+','_',s)\n",
    "        s = re.sub('\\W','',s)\n",
    "        \n",
    "        if (len(s.split('_')) > 4):\n",
    "            print(\"we will ignore this tag: {}\".format(s))\n",
    "            #list_of_tags.append('system_none_tags')\n",
    "            continue  \n",
    "        s = re.sub('_+','',s)\n",
    "        \n",
    "        list_of_tags += ' ' + s\n",
    "    new_tag_line['tags_list'] = list_of_tags\n",
    "    del new_tag_line['tag']\n",
    "    return new_tag_line"
   ]
  },
  {
   "cell_type": "code",
   "execution_count": 8,
   "metadata": {
    "collapsed": true
   },
   "outputs": [],
   "source": [
    "def process_genres(genres):\n",
    "    \"\"\"\n",
    "    Обработка жанров:\n",
    "    * если жанра нет, так и укажем\n",
    "    * удалим все дефисы\n",
    "\n",
    "    Функция возвращает список  (list) жанров.\n",
    "    \"\"\"\n",
    "    list_of_genres = \"\"\n",
    "    for word in genres.split('|'):\n",
    "        l = word.replace('(no genres listed)','none').replace('-','')\n",
    "        l = l.lower()\n",
    "        list_of_genres += ' ' + l\n",
    "    return list_of_genres"
   ]
  },
  {
   "cell_type": "code",
   "execution_count": 36,
   "metadata": {
    "collapsed": true
   },
   "outputs": [],
   "source": [
    "def my_precision(true_csr, pred_dense, K):\n",
    "    indices = pred_dense.argsort()[::-1][:K]\n",
    "    num_el = K\n",
    "    #num_el = len(false_csr.indices)\n",
    "    acc = 0\n",
    "    for i in indices:\n",
    "        if i in true_csr.indices:\n",
    "            acc += 1\n",
    "    return acc/num_el"
   ]
  },
  {
   "cell_type": "code",
   "execution_count": 37,
   "metadata": {
    "collapsed": true
   },
   "outputs": [],
   "source": [
    "def avg_precision(true_csr, pred_csr, K):\n",
    "    indices = pred_csr.argsort()[::-1][:K]\n",
    "    num_el = K\n",
    "    acc = 0\n",
    "    j = 1\n",
    "    for i in indices:\n",
    "        #print(\"test_pred_ind{}\".format(i))\n",
    "        if i in true_csr.indices:\n",
    "            acc += 1 / j\n",
    "        j += 1\n",
    "    return acc / num_el"
   ]
  },
  {
   "cell_type": "code",
   "execution_count": 38,
   "metadata": {
    "collapsed": true
   },
   "outputs": [],
   "source": [
    "def my_reciprocal_rank(true_scr, pred_dense):\n",
    "    indices = pred_dense.argsort()[::-1]\n",
    "    rv = 0\n",
    "    j = 1\n",
    "    for i in indices:\n",
    "        if i in true_scr.indices:\n",
    "            return 1 / j\n",
    "        j += 1\n",
    "    return 0"
   ]
  },
  {
   "cell_type": "code",
   "execution_count": null,
   "metadata": {
    "collapsed": true
   },
   "outputs": [],
   "source": []
  },
  {
   "cell_type": "code",
   "execution_count": null,
   "metadata": {
    "collapsed": true
   },
   "outputs": [],
   "source": []
  },
  {
   "cell_type": "code",
   "execution_count": null,
   "metadata": {
    "collapsed": true
   },
   "outputs": [],
   "source": []
  },
  {
   "cell_type": "code",
   "execution_count": null,
   "metadata": {
    "collapsed": true
   },
   "outputs": [],
   "source": []
  }
 ],
 "metadata": {
  "kernelspec": {
   "display_name": "Python 3",
   "language": "python",
   "name": "python3"
  },
  "language_info": {
   "codemirror_mode": {
    "name": "ipython",
    "version": 3
   },
   "file_extension": ".py",
   "mimetype": "text/x-python",
   "name": "python",
   "nbconvert_exporter": "python",
   "pygments_lexer": "ipython3",
   "version": "3.6.3"
  }
 },
 "nbformat": 4,
 "nbformat_minor": 2
}
