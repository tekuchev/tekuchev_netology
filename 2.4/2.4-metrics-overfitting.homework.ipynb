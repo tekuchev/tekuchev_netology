{
 "cells": [
  {
   "cell_type": "markdown",
   "metadata": {},
   "source": [
    "# Метрики модели,  переобучение."
   ]
  },
  {
   "cell_type": "markdown",
   "metadata": {},
   "source": [
    "## Задание: для данных из load_digits() построить несколько моделей и определить лучшую по метрике accuracy."
   ]
  },
  {
   "cell_type": "code",
   "execution_count": 4,
   "metadata": {
    "collapsed": true
   },
   "outputs": [],
   "source": [
    "import pandas as  pd\n",
    "import numpy as np\n",
    "from sklearn.datasets import load_digits"
   ]
  },
  {
   "cell_type": "code",
   "execution_count": 5,
   "metadata": {},
   "outputs": [
    {
     "name": "stdout",
     "output_type": "stream",
     "text": [
      "Populating the interactive namespace from numpy and matplotlib\n"
     ]
    }
   ],
   "source": [
    "%pylab inline"
   ]
  },
  {
   "cell_type": "code",
   "execution_count": 6,
   "metadata": {},
   "outputs": [
    {
     "data": {
      "text/plain": [
       "dict_keys(['data', 'target', 'target_names', 'images', 'DESCR'])"
      ]
     },
     "execution_count": 6,
     "metadata": {},
     "output_type": "execute_result"
    }
   ],
   "source": [
    "data = load_digits()\n",
    "data.keys()"
   ]
  },
  {
   "cell_type": "markdown",
   "metadata": {},
   "source": [
    "X - матрица данных\n",
    "y - столбец результатов, Ydummy - матрица результатов."
   ]
  },
  {
   "cell_type": "code",
   "execution_count": 7,
   "metadata": {
    "collapsed": true
   },
   "outputs": [],
   "source": [
    "X = pd.DataFrame(data['data'])\n",
    "y = pd.Series(data['target'])\n",
    "Ydummy = pd.get_dummies(y)"
   ]
  },
  {
   "cell_type": "markdown",
   "metadata": {},
   "source": [
    "### Простое дерево решений\n",
    "\n",
    "accuracy модели - 0.82. \n",
    "\n",
    "Подбор параметров с помощью cross_validate и GridSearchCV показал оптимальные параметры для DecisionTreeClassifier:\n",
    "* max_depth = 12; При этом значении max_depth график зависимости accuracy от max_depth выходит на \"плато\". \n",
    "* splitter = 'random'; причем при различных комбинациях max_depth, min_samples_leaf, max_features, 'random' дает чуть большую точность, чем 'best'\n",
    "\n",
    "Перебор параметров min_samples_leaf  max_features в GridSearchCV  результатов не дал, установка параметров в значения, отличные от тех, что получаются в модели, приводит к уменьшению accuracy.\n",
    "\n",
    "Построен график зависимости accuracy от количества разбиений в функции cross_validate.  Среднее acuracy увеличивается при изменении cv до 10, при 10 < cv < 14, среднее accuracy \"скачет\" в пределах 5%, после выравнивается около значения 0.82."
   ]
  },
  {
   "cell_type": "code",
   "execution_count": 8,
   "metadata": {
    "collapsed": true
   },
   "outputs": [],
   "source": [
    "from sklearn.tree import DecisionTreeClassifier"
   ]
  },
  {
   "cell_type": "code",
   "execution_count": 9,
   "metadata": {
    "collapsed": true
   },
   "outputs": [],
   "source": [
    "from sklearn.model_selection import cross_val_score\n",
    "from sklearn.model_selection import cross_validate"
   ]
  },
  {
   "cell_type": "code",
   "execution_count": 7,
   "metadata": {
    "collapsed": true
   },
   "outputs": [],
   "source": [
    "cross_validate?"
   ]
  },
  {
   "cell_type": "code",
   "execution_count": 10,
   "metadata": {
    "collapsed": true
   },
   "outputs": [],
   "source": [
    "scores = cross_validate(DecisionTreeClassifier(max_depth=13,splitter='random',random_state=0), X, Ydummy,\n",
    "                        cv=8, \n",
    "                        scoring='accuracy', n_jobs=2)"
   ]
  },
  {
   "cell_type": "code",
   "execution_count": 11,
   "metadata": {},
   "outputs": [
    {
     "data": {
      "text/plain": [
       "array([ 0.81777778,  0.88888889,  0.74666667,  0.81333333,  0.87555556,\n",
       "        0.87053571,  0.83928571,  0.73214286])"
      ]
     },
     "execution_count": 11,
     "metadata": {},
     "output_type": "execute_result"
    }
   ],
   "source": [
    "scores['test_score']"
   ]
  },
  {
   "cell_type": "code",
   "execution_count": 12,
   "metadata": {},
   "outputs": [
    {
     "data": {
      "text/plain": [
       "0.82302331349206348"
      ]
     },
     "execution_count": 12,
     "metadata": {},
     "output_type": "execute_result"
    }
   ],
   "source": [
    "scores['test_score'].mean()"
   ]
  },
  {
   "cell_type": "code",
   "execution_count": 13,
   "metadata": {
    "collapsed": true
   },
   "outputs": [],
   "source": [
    "means = []\n",
    "stds = []\n",
    "for depth in range(1, 20):\n",
    "    scores  = cross_val_score(DecisionTreeClassifier(max_depth = depth, splitter='random'),X, Ydummy, cv = 5, scoring='accuracy')\n",
    "    means.append(scores.mean())\n",
    "    stds.append(scores.std())\n",
    "\n",
    "means_1 = []\n",
    "stds_1 = []\n",
    "for depth in range(1, 20):\n",
    "    scores  = cross_val_score(DecisionTreeClassifier(max_depth = depth),X, Ydummy, cv = 5, scoring='accuracy')\n",
    "    means_1.append(scores.mean())\n",
    "    stds_1.append(scores.std())"
   ]
  },
  {
   "cell_type": "code",
   "execution_count": 14,
   "metadata": {},
   "outputs": [
    {
     "data": {
      "image/png": "[encoded data removed]",
      "text/plain": [
       "<matplotlib.figure.Figure at 0x7ff42f6ee4a8>"
      ]
     },
     "metadata": {},
     "output_type": "display_data"
    }
   ],
   "source": [
    "plt.errorbar(range(1, 20), means, stds);\n",
    "plt.errorbar(range(1, 20), means_1, stds_1);\n",
    "plt.legend(['random', 'best']);"
   ]
  },
  {
   "cell_type": "markdown",
   "metadata": {},
   "source": [
    "#### График зависимости accuracy от количества разбиений в cross_val_score"
   ]
  },
  {
   "cell_type": "code",
   "execution_count": 20,
   "metadata": {},
   "outputs": [
    {
     "data": {
      "text/plain": [
       "<Container object of 3 artists>"
      ]
     },
     "execution_count": 20,
     "metadata": {},
     "output_type": "execute_result"
    },
    {
     "data": {
      "image/png": "[encoded data removed]",
      "text/plain": [
       "<matplotlib.figure.Figure at 0x7ff42c15ec18>"
      ]
     },
     "metadata": {},
     "output_type": "display_data"
    }
   ],
   "source": [
    "means = []\n",
    "stds = []\n",
    "\n",
    "for cv in range(4,30):\n",
    "    scores = cross_val_score(DecisionTreeClassifier(max_depth=12), X, Ydummy, cv=cv, scoring='accuracy')\n",
    "    means.append(scores.mean())\n",
    "    stds.append(scores.std())\n",
    "\n",
    "plt.errorbar(range(4,30),means,stds)"
   ]
  },
  {
   "cell_type": "markdown",
   "metadata": {},
   "source": [
    "#### Перебор параметров max_depth, slpitter в GridSearchCV"
   ]
  },
  {
   "cell_type": "code",
   "execution_count": 21,
   "metadata": {
    "collapsed": true
   },
   "outputs": [],
   "source": [
    "from sklearn.model_selection import GridSearchCV"
   ]
  },
  {
   "cell_type": "code",
   "execution_count": 22,
   "metadata": {
    "collapsed": true
   },
   "outputs": [],
   "source": [
    "params = [{'max_depth': list(range(8,17)), 'splitter': ['best','random']}]"
   ]
  },
  {
   "cell_type": "code",
   "execution_count": 23,
   "metadata": {
    "collapsed": true
   },
   "outputs": [],
   "source": [
    "gs = GridSearchCV(DecisionTreeClassifier(random_state=0), param_grid = params, scoring='accuracy',cv=8,n_jobs=4);"
   ]
  },
  {
   "cell_type": "code",
   "execution_count": 24,
   "metadata": {},
   "outputs": [
    {
     "data": {
      "text/plain": [
       "GridSearchCV(cv=8, error_score='raise',\n",
       "       estimator=DecisionTreeClassifier(class_weight=None, criterion='gini', max_depth=None,\n",
       "            max_features=None, max_leaf_nodes=None,\n",
       "            min_impurity_decrease=0.0, min_impurity_split=None,\n",
       "            min_samples_leaf=1, min_samples_split=2,\n",
       "            min_weight_fraction_leaf=0.0, presort=False, random_state=0,\n",
       "            splitter='best'),\n",
       "       fit_params=None, iid=True, n_jobs=4,\n",
       "       param_grid=[{'max_depth': [8, 9, 10, 11, 12, 13, 14, 15, 16], 'splitter': ['best', 'random']}],\n",
       "       pre_dispatch='2*n_jobs', refit=True, return_train_score='warn',\n",
       "       scoring='accuracy', verbose=0)"
      ]
     },
     "execution_count": 24,
     "metadata": {},
     "output_type": "execute_result"
    }
   ],
   "source": [
    "gs.fit(X,Ydummy)"
   ]
  },
  {
   "cell_type": "code",
   "execution_count": 25,
   "metadata": {},
   "outputs": [
    {
     "data": {
      "text/plain": [
       "{'max_depth': 16, 'splitter': 'random'}"
      ]
     },
     "execution_count": 25,
     "metadata": {},
     "output_type": "execute_result"
    }
   ],
   "source": [
    "gs.best_params_"
   ]
  },
  {
   "cell_type": "code",
   "execution_count": 21,
   "metadata": {},
   "outputs": [
    {
     "data": {
      "text/plain": [
       "0.82415136338341677"
      ]
     },
     "execution_count": 21,
     "metadata": {},
     "output_type": "execute_result"
    }
   ],
   "source": [
    "gs.best_score_"
   ]
  },
  {
   "cell_type": "markdown",
   "metadata": {},
   "source": [
    "## Ансамбли: ExtraTrees, RandomForest\n",
    "\n",
    "accuracy модели = 0.91.\n",
    "\n",
    "Лучший результат показал ансамбль ExtraTreesClassifier с параметрами max_depth = 12, n_estimators = 300, warm_start = True, max_featurres = None\n",
    "\n"
   ]
  },
  {
   "cell_type": "code",
   "execution_count": 26,
   "metadata": {
    "collapsed": true
   },
   "outputs": [],
   "source": [
    "from sklearn.ensemble import ExtraTreesClassifier\n",
    "from sklearn.ensemble import RandomForestClassifier"
   ]
  },
  {
   "cell_type": "code",
   "execution_count": 59,
   "metadata": {
    "collapsed": true
   },
   "outputs": [],
   "source": [
    "scores = cross_validate(ExtraTreesClassifier(max_depth = 12, \n",
    "                                             n_estimators=300, \n",
    "                                             warm_start=True,\n",
    "                                             max_features = None),\n",
    "                        X, Ydummy,\n",
    "                        cv = 12, n_jobs=2,\n",
    "                        scoring='accuracy'\n",
    "                       )"
   ]
  },
  {
   "cell_type": "code",
   "execution_count": 60,
   "metadata": {},
   "outputs": [
    {
     "data": {
      "text/plain": [
       "array([ 0.84      ,  0.97333333,  0.93333333,  0.9       ,  0.89333333,\n",
       "        0.9       ,  0.96666667,  0.92666667,  0.93333333,  0.97315436,\n",
       "        0.85234899,  0.87919463])"
      ]
     },
     "execution_count": 60,
     "metadata": {},
     "output_type": "execute_result"
    }
   ],
   "source": [
    "scores['test_score']"
   ]
  },
  {
   "cell_type": "code",
   "execution_count": 61,
   "metadata": {},
   "outputs": [
    {
     "data": {
      "text/plain": [
       "0.91428038777032061"
      ]
     },
     "execution_count": 61,
     "metadata": {},
     "output_type": "execute_result"
    }
   ],
   "source": [
    "scores['test_score'].mean()"
   ]
  },
  {
   "cell_type": "code",
   "execution_count": 63,
   "metadata": {},
   "outputs": [],
   "source": [
    "means = []\n",
    "stds = []\n",
    "\n",
    "for i in range(8,20):\n",
    "    scores = cross_val_score(ExtraTreesClassifier(max_depth = 12, \n",
    "                                             n_estimators=300, \n",
    "                                             warm_start=True,\n",
    "                                             max_features = None),\n",
    "                        X, Ydummy,\n",
    "                        cv = i, n_jobs=2,\n",
    "                        scoring='accuracy'\n",
    "                       )\n",
    "    means.append(scores.mean())\n",
    "    stds.append(scores.std())"
   ]
  },
  {
   "cell_type": "code",
   "execution_count": 64,
   "metadata": {},
   "outputs": [
    {
     "data": {
      "text/plain": [
       "<Container object of 3 artists>"
      ]
     },
     "execution_count": 64,
     "metadata": {},
     "output_type": "execute_result"
    },
    {
     "data": {
      "image/png": "[encoded data removed]",
      "text/plain": [
       "<matplotlib.figure.Figure at 0x7ff42c169f98>"
      ]
     },
     "metadata": {},
     "output_type": "display_data"
    }
   ],
   "source": [
    "plt.errorbar(range(8,20),means,stds)"
   ]
  },
  {
   "cell_type": "code",
   "execution_count": 66,
   "metadata": {
    "collapsed": true
   },
   "outputs": [],
   "source": [
    "from collections import OrderedDict, Counter"
   ]
  },
  {
   "cell_type": "code",
   "execution_count": 67,
   "metadata": {},
   "outputs": [
    {
     "data": {
      "image/png": "[encoded data removed]",
      "text/plain": [
       "<matplotlib.figure.Figure at 0x7ff42daa8208>"
      ]
     },
     "metadata": {},
     "output_type": "display_data"
    }
   ],
   "source": [
    "# Устанавливаем аргумент warm_start=True для дообучения модели\n",
    "RANDOM_STATE = 123\n",
    "ensemble_clfs = [\n",
    "   (\"ExtraTreesClassifier, max_depth=8\",\n",
    "        ExtraTreesClassifier(warm_start=True, oob_score=True,\n",
    "                               max_features=None,\n",
    "                               max_depth=8,\n",
    "                               random_state=RANDOM_STATE,\n",
    "                               bootstrap=True)),\n",
    "    (\"ExtraTreesClassifier, max_depth=12\",\n",
    "        ExtraTreesClassifier(warm_start=True, oob_score=True,\n",
    "                               max_features=None,\n",
    "                               max_depth=12,\n",
    "                               random_state=RANDOM_STATE,\n",
    "                               bootstrap=True)),\n",
    "      (\"ExtraTreesClassifier, max_depth=14\",\n",
    "        ExtraTreesClassifier(warm_start=True, oob_score=True,\n",
    "                               max_features=None,\n",
    "                               max_depth=14,\n",
    "                               random_state=RANDOM_STATE,\n",
    "                               bootstrap=True)),\n",
    "    (\"RandomForestClassifier, max_depth=8\",\n",
    "        RandomForestClassifier(warm_start=True, max_features=None,\n",
    "                               oob_score=True,\n",
    "                               max_depth=8,\n",
    "                               random_state=RANDOM_STATE)),\n",
    "    (\"RandomForestClassifier, max_depth=12\",\n",
    "        RandomForestClassifier(warm_start=True, max_features=None,\n",
    "                               oob_score=True,\n",
    "                               max_depth=12,\n",
    "                               random_state=RANDOM_STATE)),\n",
    "    (\"RandomForestClassifier, max_depth=14\",\n",
    "        RandomForestClassifier(warm_start=True, max_features=None,\n",
    "                               oob_score=True,\n",
    "                               max_depth=14,\n",
    "                               random_state=RANDOM_STATE))\n",
    "]\n",
    "\n",
    "error_rate = OrderedDict((label, []) for label, _ in ensemble_clfs)\n",
    "min_estimators = 30\n",
    "max_estimators = 1000\n",
    "\n",
    "for label, clf in ensemble_clfs:\n",
    "    for i in range(min_estimators, max_estimators, 10):\n",
    "        clf.set_params(n_estimators = i, n_jobs=4)\n",
    "        clf.fit(X,Ydummy)\n",
    "        \n",
    "        oob_error = 1 - clf.oob_score_\n",
    "        error_rate[label].append((i,oob_error))\n",
    "        \n",
    "    \n",
    "for label, clf_err in error_rate.items():\n",
    "    xs, ys = zip(*clf_err)\n",
    "    plt.plot(xs,ys,label=label)\n",
    "\n",
    "plt.xlim(min_estimators, max_estimators)\n",
    "plt.xlabel('n_estimators')\n",
    "plt.ylabel('OOB Error rate')\n",
    "plt.legend(loc='upper right')\n",
    "plt.show();"
   ]
  },
  {
   "cell_type": "code",
   "execution_count": 68,
   "metadata": {
    "collapsed": true
   },
   "outputs": [],
   "source": [
    "params = [{'max_features': [None, 'sqrt','log2']}]\n",
    "gs = GridSearchCV(ExtraTreesClassifier(n_estimators=300, max_depth = 12, warm_start=True, bootstrap = True),\n",
    "                    param_grid = params, cv=8, n_jobs=2)"
   ]
  },
  {
   "cell_type": "code",
   "execution_count": 69,
   "metadata": {},
   "outputs": [
    {
     "data": {
      "text/plain": [
       "GridSearchCV(cv=8, error_score='raise',\n",
       "       estimator=ExtraTreesClassifier(bootstrap=True, class_weight=None, criterion='gini',\n",
       "           max_depth=12, max_features='auto', max_leaf_nodes=None,\n",
       "           min_impurity_decrease=0.0, min_impurity_split=None,\n",
       "           min_samples_leaf=1, min_samples_split=2,\n",
       "           min_weight_fraction_leaf=0.0, n_estimators=300, n_jobs=1,\n",
       "           oob_score=False, random_state=None, verbose=0, warm_start=True),\n",
       "       fit_params=None, iid=True, n_jobs=2,\n",
       "       param_grid=[{'max_features': [None, 'sqrt', 'log2']}],\n",
       "       pre_dispatch='2*n_jobs', refit=True, return_train_score='warn',\n",
       "       scoring=None, verbose=0)"
      ]
     },
     "execution_count": 69,
     "metadata": {},
     "output_type": "execute_result"
    }
   ],
   "source": [
    "gs.fit(X,Ydummy)"
   ]
  },
  {
   "cell_type": "code",
   "execution_count": 70,
   "metadata": {},
   "outputs": [
    {
     "data": {
      "text/plain": [
       "0.87256538675570394"
      ]
     },
     "execution_count": 70,
     "metadata": {},
     "output_type": "execute_result"
    }
   ],
   "source": [
    "gs.best_score_"
   ]
  },
  {
   "cell_type": "code",
   "execution_count": 71,
   "metadata": {},
   "outputs": [
    {
     "data": {
      "text/plain": [
       "{'max_features': None}"
      ]
     },
     "execution_count": 71,
     "metadata": {},
     "output_type": "execute_result"
    }
   ],
   "source": [
    "gs.best_params_"
   ]
  },
  {
   "cell_type": "markdown",
   "metadata": {
    "collapsed": true
   },
   "source": [
    "### Бустниг.\n",
    "\n",
    "accuracy модели - 0.96\n",
    "\n",
    "Модель получилась методом градиентного бустнига со следующими параметрами:\n",
    "LEARNING_RATE = 0.05\n",
    "MAX_DEPTH = 3\n",
    "SUBSAMPLE = 0.6\n",
    "MAX_FEATURES = 0.8\n",
    "LEAF = 1\n"
   ]
  },
  {
   "cell_type": "markdown",
   "metadata": {},
   "source": []
  },
  {
   "cell_type": "code",
   "execution_count": 93,
   "metadata": {},
   "outputs": [],
   "source": [
    "from sklearn.ensemble import GradientBoostingClassifier\n",
    "from sklearn.metrics import accuracy_score\n",
    "from sklearn.metrics import log_loss\n",
    "from sklearn.model_selection import train_test_split"
   ]
  },
  {
   "cell_type": "code",
   "execution_count": null,
   "metadata": {},
   "outputs": [],
   "source": []
  },
  {
   "cell_type": "code",
   "execution_count": 222,
   "metadata": {},
   "outputs": [
    {
     "name": "stdout",
     "output_type": "stream",
     "text": [
      "427 0.0305065918192\n"
     ]
    },
    {
     "data": {
      "image/png": "[encoded data removed]",
      "text/plain": [
       "<matplotlib.figure.Figure at 0x7ff427b81fd0>"
      ]
     },
     "metadata": {},
     "output_type": "display_data"
    }
   ],
   "source": [
    "X_train, X_test, y_train, y_test = train_test_split(X, y, test_size = 0.1)\n",
    "\n",
    "LEARNING_RATE = 0.05\n",
    "MAX_DEPTH = 3\n",
    "SUBSAMPLE = 0.6\n",
    "MAX_FEATURES = 0.8\n",
    "LEAF = 1\n",
    "\n",
    "clf = GradientBoostingClassifier(n_estimators = 500,\n",
    "                                learning_rate = LEARNING_RATE,\n",
    "                                max_depth = MAX_DEPTH,\n",
    "                                subsample = SUBSAMPLE,\n",
    "                                max_features = MAX_FEATURES,\n",
    "                                min_samples_leaf = LEAF,\n",
    "                                )\n",
    "\n",
    "clf.fit(X_train, y_train)\n",
    "\n",
    "test_score = np.zeros(clf.n_estimators)\n",
    "for i, y_pred in enumerate(clf.staged_predict_proba(X_test)):\n",
    "    test_score[i] = log_loss(y_test, y_pred)\n",
    "\n",
    "train_score = np.zeros(clf.n_estimators)\n",
    "for i, y_pred in enumerate(clf.staged_predict_proba(X_train)):\n",
    "    train_score[i] = log_loss(y_train, y_pred)\n",
    "\n",
    "print(np.argmin(test_score),np.min(test_score))\n",
    "\n",
    "plt.plot(range(clf.n_estimators),test_score)\n",
    "plt.plot(range(clf.n_estimators),train_score)\n",
    "plt.legend(['test_score','train_score'])\n",
    "plt.show()"
   ]
  },
  {
   "cell_type": "code",
   "execution_count": 219,
   "metadata": {},
   "outputs": [
    {
     "data": {
      "text/plain": [
       "0.96111111111111114"
      ]
     },
     "execution_count": 219,
     "metadata": {},
     "output_type": "execute_result"
    }
   ],
   "source": [
    "clf.score(X_test, y_test)"
   ]
  },
  {
   "cell_type": "code",
   "execution_count": 220,
   "metadata": {},
   "outputs": [],
   "source": [
    "scores = cross_val_score(GradientBoostingClassifier(n_estimators = 500,\n",
    "                                learning_rate = LEARNING_RATE,\n",
    "                                max_depth = MAX_DEPTH,\n",
    "                                subsample = SUBSAMPLE,\n",
    "                                max_features = MAX_FEATURES,\n",
    "                                min_samples_leaf = LEAF),\n",
    "\n",
    "                        X, y,\n",
    "                        cv = 12, n_jobs=4,\n",
    "                        scoring='accuracy')"
   ]
  },
  {
   "cell_type": "code",
   "execution_count": 221,
   "metadata": {},
   "outputs": [
    {
     "data": {
      "text/plain": [
       "0.96112446198839352"
      ]
     },
     "execution_count": 221,
     "metadata": {},
     "output_type": "execute_result"
    }
   ],
   "source": [
    "scores.mean()"
   ]
  },
  {
   "cell_type": "markdown",
   "metadata": {},
   "source": [
    "Погреем воздух рассчетом GridSearchCV..."
   ]
  },
  {
   "cell_type": "code",
   "execution_count": 204,
   "metadata": {},
   "outputs": [],
   "source": [
    "params = ({'max_depth' : list(range(3,4)), \n",
    "           'subsample': [0.3,0.4,0.5], \n",
    "           'max_features' : [0.7]\n",
    "          })\n",
    "cv = GridSearchCV(GradientBoostingClassifier(n_estimators = 300, learning_rate = 0.05), params, n_jobs=4)"
   ]
  },
  {
   "cell_type": "code",
   "execution_count": 205,
   "metadata": {},
   "outputs": [
    {
     "data": {
      "text/plain": [
       "GridSearchCV(cv=None, error_score='raise',\n",
       "       estimator=GradientBoostingClassifier(criterion='friedman_mse', init=None,\n",
       "              learning_rate=0.05, loss='deviance', max_depth=3,\n",
       "              max_features=None, max_leaf_nodes=None,\n",
       "              min_impurity_decrease=0.0, min_impurity_split=None,\n",
       "              min_samples_leaf=1, min_samples_split=2,\n",
       "              min_weight_fraction_leaf=0.0, n_estimators=300,\n",
       "              presort='auto', random_state=None, subsample=1.0, verbose=0,\n",
       "              warm_start=False),\n",
       "       fit_params=None, iid=True, n_jobs=4,\n",
       "       param_grid={'max_depth': [3], 'subsample': [0.3, 0.4, 0.5], 'max_features': [0.7]},\n",
       "       pre_dispatch='2*n_jobs', refit=True, return_train_score='warn',\n",
       "       scoring=None, verbose=0)"
      ]
     },
     "execution_count": 205,
     "metadata": {},
     "output_type": "execute_result"
    }
   ],
   "source": [
    "cv.fit(X,y)"
   ]
  },
  {
   "cell_type": "code",
   "execution_count": 206,
   "metadata": {},
   "outputs": [
    {
     "data": {
      "text/plain": [
       "{'max_depth': 3, 'max_features': 0.7, 'subsample': 0.3}"
      ]
     },
     "execution_count": 206,
     "metadata": {},
     "output_type": "execute_result"
    }
   ],
   "source": [
    "cv.best_params_"
   ]
  },
  {
   "cell_type": "code",
   "execution_count": 207,
   "metadata": {},
   "outputs": [
    {
     "data": {
      "text/plain": [
       "0.93155258764607685"
      ]
     },
     "execution_count": 207,
     "metadata": {},
     "output_type": "execute_result"
    }
   ],
   "source": [
    "cv.best_score_"
   ]
  },
  {
   "cell_type": "code",
   "execution_count": null,
   "metadata": {
    "collapsed": true
   },
   "outputs": [],
   "source": []
  }
 ],
 "metadata": {
  "kernelspec": {
   "display_name": "Python 3",
   "language": "python",
   "name": "python3"
  },
  "language_info": {
   "codemirror_mode": {
    "name": "ipython",
    "version": 3
   },
   "file_extension": ".py",
   "mimetype": "text/x-python",
   "name": "python",
   "nbconvert_exporter": "python",
   "pygments_lexer": "ipython3",
   "version": "3.6.3"
  }
 },
 "nbformat": 4,
 "nbformat_minor": 2
}
